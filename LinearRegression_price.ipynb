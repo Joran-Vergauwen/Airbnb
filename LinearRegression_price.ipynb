{
 "cells": [
  {
   "cell_type": "markdown",
   "metadata": {},
   "source": [
    "# Linear regression"
   ]
  },
  {
   "cell_type": "code",
   "execution_count": 1,
   "metadata": {},
   "outputs": [],
   "source": [
    "from numpy import *\n",
    "from matplotlib.pyplot import figure\n",
    "import sklearn\n",
    "from sklearn.preprocessing import LabelEncoder"
   ]
  },
  {
   "cell_type": "code",
   "execution_count": 2,
   "metadata": {},
   "outputs": [],
   "source": [
    "# Clean security_deposit  \n",
    "def clean_dollar(df, feature):   \n",
    "    try: \n",
    "        df[feature] = df[feature].str.replace(\"$\",\"\")\n",
    "        df[feature] = df[feature].str.replace(\",\",\"\")\n",
    "        df[feature]  = pd.to_numeric(df[feature], downcast = 'float')\n",
    "    except: \n",
    "        print(\"already converted\")\n",
    "        \n",
    "# Clean percentage  \n",
    "def clean_percentage(df, feature):   \n",
    "    try: \n",
    "        df[feature] = df[feature].str.replace(\"%\",\"\")\n",
    "        df[feature]  = pd.to_numeric(df[feature], downcast = 'float')\n",
    "    except: \n",
    "        print(\"already converted\")\n",
    "        "
   ]
  },
  {
   "cell_type": "markdown",
   "metadata": {},
   "source": [
    "## Loading data"
   ]
  },
  {
   "cell_type": "code",
   "execution_count": 3,
   "metadata": {},
   "outputs": [
    {
     "name": "stderr",
     "output_type": "stream",
     "text": [
      "D:\\Anaconda\\lib\\site-packages\\IPython\\core\\interactiveshell.py:3049: DtypeWarning: Columns (43,88) have mixed types. Specify dtype option on import or set low_memory=False.\n",
      "  interactivity=interactivity, compiler=compiler, result=result)\n"
     ]
    }
   ],
   "source": [
    "from tqdm import tqdm\n",
    "import numpy as np \n",
    "import pandas as pd\n",
    "import json\n",
    "import matplotlib.pyplot as plt\n",
    "import seaborn as sns\n",
    "try: \n",
    "    # Paden Joran \n",
    "    calendar_detail = pd.read_csv(\"calendar_detail.csv\")\n",
    "    listings_detail = pd.read_csv(\"listings_detail.csv\")\n",
    "    listings_summary = pd.read_csv(\"listings_summary.csv\")\n",
    "    neighbourhoods = pd.read_csv(\"neighbourhoods.csv\")\n",
    "    reviews_detail = pd.read_csv(\"reviews_detail.csv\")\n",
    "    reviews_summary = pd.read_csv(\"reviews_summary.csv\")\n",
    "    with open('neighbourhoods.geojson') as f:\n",
    "        neighbourhoods_geojson = json.load(f)\n",
    "except: \n",
    "    print(\"Files not found\")"
   ]
  },
  {
   "cell_type": "code",
   "execution_count": 4,
   "metadata": {},
   "outputs": [
    {
     "name": "stderr",
     "output_type": "stream",
     "text": [
      "D:\\Anaconda\\lib\\site-packages\\ipykernel_launcher.py:3: SettingWithCopyWarning: \n",
      "A value is trying to be set on a copy of a slice from a DataFrame.\n",
      "Try using .loc[row_indexer,col_indexer] = value instead\n",
      "\n",
      "See the caveats in the documentation: http://pandas.pydata.org/pandas-docs/stable/indexing.html#indexing-view-versus-copy\n",
      "  This is separate from the ipykernel package so we can avoid doing imports until\n",
      "D:\\Anaconda\\lib\\site-packages\\ipykernel_launcher.py:4: SettingWithCopyWarning: \n",
      "A value is trying to be set on a copy of a slice from a DataFrame.\n",
      "Try using .loc[row_indexer,col_indexer] = value instead\n",
      "\n",
      "See the caveats in the documentation: http://pandas.pydata.org/pandas-docs/stable/indexing.html#indexing-view-versus-copy\n",
      "  after removing the cwd from sys.path.\n",
      "D:\\Anaconda\\lib\\site-packages\\pandas\\core\\generic.py:5096: SettingWithCopyWarning: \n",
      "A value is trying to be set on a copy of a slice from a DataFrame.\n",
      "Try using .loc[row_indexer,col_indexer] = value instead\n",
      "\n",
      "See the caveats in the documentation: http://pandas.pydata.org/pandas-docs/stable/indexing.html#indexing-view-versus-copy\n",
      "  self[name] = value\n"
     ]
    }
   ],
   "source": [
    "cal_det_available = calendar_detail[calendar_detail['available'] == 't']\n",
    "try: \n",
    "    cal_det_available['price'] = cal_det_available['price'].str.replace(\"$\",\"\")\n",
    "    cal_det_available['price'] = cal_det_available['price'].str.replace(\",\",\"\")\n",
    "    cal_det_available.price = pd.to_numeric(cal_det_available.price, downcast = 'float')\n",
    "except: \n",
    "    print(\"Already converted\")"
   ]
  },
  {
   "cell_type": "code",
   "execution_count": 5,
   "metadata": {},
   "outputs": [
    {
     "data": {
      "text/html": [
       "<div>\n",
       "<style scoped>\n",
       "    .dataframe tbody tr th:only-of-type {\n",
       "        vertical-align: middle;\n",
       "    }\n",
       "\n",
       "    .dataframe tbody tr th {\n",
       "        vertical-align: top;\n",
       "    }\n",
       "\n",
       "    .dataframe thead th {\n",
       "        text-align: right;\n",
       "    }\n",
       "</style>\n",
       "<table border=\"1\" class=\"dataframe\">\n",
       "  <thead>\n",
       "    <tr style=\"text-align: right;\">\n",
       "      <th></th>\n",
       "      <th>listing_id</th>\n",
       "      <th>date</th>\n",
       "      <th>available</th>\n",
       "      <th>price</th>\n",
       "    </tr>\n",
       "  </thead>\n",
       "  <tbody>\n",
       "    <tr>\n",
       "      <th>0</th>\n",
       "      <td>2515</td>\n",
       "      <td>2018-10-01</td>\n",
       "      <td>t</td>\n",
       "      <td>$99.00</td>\n",
       "    </tr>\n",
       "    <tr>\n",
       "      <th>1</th>\n",
       "      <td>2515</td>\n",
       "      <td>2018-09-30</td>\n",
       "      <td>t</td>\n",
       "      <td>$89.00</td>\n",
       "    </tr>\n",
       "    <tr>\n",
       "      <th>2</th>\n",
       "      <td>2515</td>\n",
       "      <td>2018-09-29</td>\n",
       "      <td>t</td>\n",
       "      <td>$99.00</td>\n",
       "    </tr>\n",
       "    <tr>\n",
       "      <th>3</th>\n",
       "      <td>2515</td>\n",
       "      <td>2018-09-28</td>\n",
       "      <td>t</td>\n",
       "      <td>$99.00</td>\n",
       "    </tr>\n",
       "    <tr>\n",
       "      <th>4</th>\n",
       "      <td>2515</td>\n",
       "      <td>2018-09-27</td>\n",
       "      <td>t</td>\n",
       "      <td>$99.00</td>\n",
       "    </tr>\n",
       "  </tbody>\n",
       "</table>\n",
       "</div>"
      ],
      "text/plain": [
       "   listing_id        date available   price\n",
       "0        2515  2018-10-01         t  $99.00\n",
       "1        2515  2018-09-30         t  $89.00\n",
       "2        2515  2018-09-29         t  $99.00\n",
       "3        2515  2018-09-28         t  $99.00\n",
       "4        2515  2018-09-27         t  $99.00"
      ]
     },
     "execution_count": 5,
     "metadata": {},
     "output_type": "execute_result"
    }
   ],
   "source": [
    "# calendar_details \n",
    "calendar_detail.head()"
   ]
  },
  {
   "cell_type": "code",
   "execution_count": 6,
   "metadata": {},
   "outputs": [
    {
     "data": {
      "text/html": [
       "<div>\n",
       "<style scoped>\n",
       "    .dataframe tbody tr th:only-of-type {\n",
       "        vertical-align: middle;\n",
       "    }\n",
       "\n",
       "    .dataframe tbody tr th {\n",
       "        vertical-align: top;\n",
       "    }\n",
       "\n",
       "    .dataframe thead th {\n",
       "        text-align: right;\n",
       "    }\n",
       "</style>\n",
       "<table border=\"1\" class=\"dataframe\">\n",
       "  <thead>\n",
       "    <tr style=\"text-align: right;\">\n",
       "      <th></th>\n",
       "      <th>id</th>\n",
       "      <th>listing_url</th>\n",
       "      <th>scrape_id</th>\n",
       "      <th>last_scraped</th>\n",
       "      <th>name</th>\n",
       "      <th>summary</th>\n",
       "      <th>space</th>\n",
       "      <th>description</th>\n",
       "      <th>experiences_offered</th>\n",
       "      <th>neighborhood_overview</th>\n",
       "      <th>...</th>\n",
       "      <th>requires_license</th>\n",
       "      <th>license</th>\n",
       "      <th>jurisdiction_names</th>\n",
       "      <th>instant_bookable</th>\n",
       "      <th>is_business_travel_ready</th>\n",
       "      <th>cancellation_policy</th>\n",
       "      <th>require_guest_profile_picture</th>\n",
       "      <th>require_guest_phone_verification</th>\n",
       "      <th>calculated_host_listings_count</th>\n",
       "      <th>reviews_per_month</th>\n",
       "    </tr>\n",
       "  </thead>\n",
       "  <tbody>\n",
       "    <tr>\n",
       "      <th>0</th>\n",
       "      <td>18461891</td>\n",
       "      <td>https://www.airbnb.com/rooms/18461891</td>\n",
       "      <td>20171002002103</td>\n",
       "      <td>2017-10-03</td>\n",
       "      <td>Bright, comfortable 1B studio near everything!</td>\n",
       "      <td>*Looking to fill these specific dates: June 24...</td>\n",
       "      <td>Very well illuminated space includes comfortab...</td>\n",
       "      <td>*Looking to fill these specific dates: June 24...</td>\n",
       "      <td>none</td>\n",
       "      <td>There are Michelin-rated restaurants in the ar...</td>\n",
       "      <td>...</td>\n",
       "      <td>f</td>\n",
       "      <td>NaN</td>\n",
       "      <td>NaN</td>\n",
       "      <td>f</td>\n",
       "      <td>f</td>\n",
       "      <td>strict</td>\n",
       "      <td>f</td>\n",
       "      <td>f</td>\n",
       "      <td>1</td>\n",
       "      <td>NaN</td>\n",
       "    </tr>\n",
       "    <tr>\n",
       "      <th>1</th>\n",
       "      <td>20702398</td>\n",
       "      <td>https://www.airbnb.com/rooms/20702398</td>\n",
       "      <td>20171002002103</td>\n",
       "      <td>2017-10-03</td>\n",
       "      <td>Quiet house on City Island</td>\n",
       "      <td>1 private bedroom and bathroom available for o...</td>\n",
       "      <td>NaN</td>\n",
       "      <td>1 private bedroom and bathroom available for o...</td>\n",
       "      <td>none</td>\n",
       "      <td>This neighborhood is dope! Lot's of seafood re...</td>\n",
       "      <td>...</td>\n",
       "      <td>f</td>\n",
       "      <td>NaN</td>\n",
       "      <td>NaN</td>\n",
       "      <td>f</td>\n",
       "      <td>f</td>\n",
       "      <td>moderate</td>\n",
       "      <td>f</td>\n",
       "      <td>f</td>\n",
       "      <td>1</td>\n",
       "      <td>2.0</td>\n",
       "    </tr>\n",
       "  </tbody>\n",
       "</table>\n",
       "<p>2 rows × 96 columns</p>\n",
       "</div>"
      ],
      "text/plain": [
       "         id                            listing_url       scrape_id  \\\n",
       "0  18461891  https://www.airbnb.com/rooms/18461891  20171002002103   \n",
       "1  20702398  https://www.airbnb.com/rooms/20702398  20171002002103   \n",
       "\n",
       "  last_scraped                                            name  \\\n",
       "0   2017-10-03  Bright, comfortable 1B studio near everything!   \n",
       "1   2017-10-03                      Quiet house on City Island   \n",
       "\n",
       "                                             summary  \\\n",
       "0  *Looking to fill these specific dates: June 24...   \n",
       "1  1 private bedroom and bathroom available for o...   \n",
       "\n",
       "                                               space  \\\n",
       "0  Very well illuminated space includes comfortab...   \n",
       "1                                                NaN   \n",
       "\n",
       "                                         description experiences_offered  \\\n",
       "0  *Looking to fill these specific dates: June 24...                none   \n",
       "1  1 private bedroom and bathroom available for o...                none   \n",
       "\n",
       "                               neighborhood_overview  ... requires_license  \\\n",
       "0  There are Michelin-rated restaurants in the ar...  ...                f   \n",
       "1  This neighborhood is dope! Lot's of seafood re...  ...                f   \n",
       "\n",
       "  license jurisdiction_names instant_bookable is_business_travel_ready  \\\n",
       "0     NaN                NaN                f                        f   \n",
       "1     NaN                NaN                f                        f   \n",
       "\n",
       "  cancellation_policy require_guest_profile_picture  \\\n",
       "0              strict                             f   \n",
       "1            moderate                             f   \n",
       "\n",
       "  require_guest_phone_verification calculated_host_listings_count  \\\n",
       "0                                f                              1   \n",
       "1                                f                              1   \n",
       "\n",
       "   reviews_per_month  \n",
       "0                NaN  \n",
       "1                2.0  \n",
       "\n",
       "[2 rows x 96 columns]"
      ]
     },
     "execution_count": 6,
     "metadata": {},
     "output_type": "execute_result"
    }
   ],
   "source": [
    "# listings_detail \n",
    "listings_detail.head(2)"
   ]
  },
  {
   "cell_type": "code",
   "execution_count": 7,
   "metadata": {},
   "outputs": [
    {
     "data": {
      "text/html": [
       "<div>\n",
       "<style scoped>\n",
       "    .dataframe tbody tr th:only-of-type {\n",
       "        vertical-align: middle;\n",
       "    }\n",
       "\n",
       "    .dataframe tbody tr th {\n",
       "        vertical-align: top;\n",
       "    }\n",
       "\n",
       "    .dataframe thead th {\n",
       "        text-align: right;\n",
       "    }\n",
       "</style>\n",
       "<table border=\"1\" class=\"dataframe\">\n",
       "  <thead>\n",
       "    <tr style=\"text-align: right;\">\n",
       "      <th></th>\n",
       "      <th>id</th>\n",
       "      <th>name</th>\n",
       "      <th>host_id</th>\n",
       "      <th>host_name</th>\n",
       "      <th>neighbourhood_group</th>\n",
       "      <th>neighbourhood</th>\n",
       "      <th>latitude</th>\n",
       "      <th>longitude</th>\n",
       "      <th>room_type</th>\n",
       "      <th>price</th>\n",
       "      <th>minimum_nights</th>\n",
       "      <th>number_of_reviews</th>\n",
       "      <th>last_review</th>\n",
       "      <th>reviews_per_month</th>\n",
       "      <th>calculated_host_listings_count</th>\n",
       "      <th>availability_365</th>\n",
       "    </tr>\n",
       "  </thead>\n",
       "  <tbody>\n",
       "    <tr>\n",
       "      <th>0</th>\n",
       "      <td>18461891</td>\n",
       "      <td>Bright, comfortable 1B studio near everything!</td>\n",
       "      <td>916092</td>\n",
       "      <td>Connie Mae</td>\n",
       "      <td>Queens</td>\n",
       "      <td>Ditmars Steinway</td>\n",
       "      <td>40.774142</td>\n",
       "      <td>-73.916246</td>\n",
       "      <td>Entire home/apt</td>\n",
       "      <td>110</td>\n",
       "      <td>6</td>\n",
       "      <td>0</td>\n",
       "      <td>NaN</td>\n",
       "      <td>NaN</td>\n",
       "      <td>1</td>\n",
       "      <td>0</td>\n",
       "    </tr>\n",
       "    <tr>\n",
       "      <th>1</th>\n",
       "      <td>20702398</td>\n",
       "      <td>Quiet house on City Island</td>\n",
       "      <td>1457680</td>\n",
       "      <td>James</td>\n",
       "      <td>Bronx</td>\n",
       "      <td>City Island</td>\n",
       "      <td>40.849191</td>\n",
       "      <td>-73.786509</td>\n",
       "      <td>Private room</td>\n",
       "      <td>50</td>\n",
       "      <td>1</td>\n",
       "      <td>2</td>\n",
       "      <td>2017-10-01</td>\n",
       "      <td>2.00</td>\n",
       "      <td>1</td>\n",
       "      <td>169</td>\n",
       "    </tr>\n",
       "    <tr>\n",
       "      <th>2</th>\n",
       "      <td>6627449</td>\n",
       "      <td>Large 1 BDRM in Great location</td>\n",
       "      <td>13886510</td>\n",
       "      <td>Arlene</td>\n",
       "      <td>Bronx</td>\n",
       "      <td>City Island</td>\n",
       "      <td>40.849775</td>\n",
       "      <td>-73.786609</td>\n",
       "      <td>Entire home/apt</td>\n",
       "      <td>125</td>\n",
       "      <td>3</td>\n",
       "      <td>21</td>\n",
       "      <td>2017-09-26</td>\n",
       "      <td>0.77</td>\n",
       "      <td>1</td>\n",
       "      <td>363</td>\n",
       "    </tr>\n",
       "    <tr>\n",
       "      <th>3</th>\n",
       "      <td>19949243</td>\n",
       "      <td>Stay aboard  a sailboat</td>\n",
       "      <td>1149260</td>\n",
       "      <td>MoMo</td>\n",
       "      <td>Bronx</td>\n",
       "      <td>City Island</td>\n",
       "      <td>40.848838</td>\n",
       "      <td>-73.782276</td>\n",
       "      <td>Entire home/apt</td>\n",
       "      <td>100</td>\n",
       "      <td>3</td>\n",
       "      <td>0</td>\n",
       "      <td>NaN</td>\n",
       "      <td>NaN</td>\n",
       "      <td>1</td>\n",
       "      <td>90</td>\n",
       "    </tr>\n",
       "    <tr>\n",
       "      <th>4</th>\n",
       "      <td>1886820</td>\n",
       "      <td>Quaint City Island Community.</td>\n",
       "      <td>9815788</td>\n",
       "      <td>Steve</td>\n",
       "      <td>Bronx</td>\n",
       "      <td>City Island</td>\n",
       "      <td>40.841144</td>\n",
       "      <td>-73.783052</td>\n",
       "      <td>Entire home/apt</td>\n",
       "      <td>300</td>\n",
       "      <td>7</td>\n",
       "      <td>0</td>\n",
       "      <td>NaN</td>\n",
       "      <td>NaN</td>\n",
       "      <td>1</td>\n",
       "      <td>365</td>\n",
       "    </tr>\n",
       "  </tbody>\n",
       "</table>\n",
       "</div>"
      ],
      "text/plain": [
       "         id                                            name   host_id  \\\n",
       "0  18461891  Bright, comfortable 1B studio near everything!    916092   \n",
       "1  20702398                      Quiet house on City Island   1457680   \n",
       "2   6627449                  Large 1 BDRM in Great location  13886510   \n",
       "3  19949243                         Stay aboard  a sailboat   1149260   \n",
       "4   1886820                  Quaint City Island Community.    9815788   \n",
       "\n",
       "    host_name neighbourhood_group     neighbourhood   latitude  longitude  \\\n",
       "0  Connie Mae              Queens  Ditmars Steinway  40.774142 -73.916246   \n",
       "1       James               Bronx       City Island  40.849191 -73.786509   \n",
       "2      Arlene               Bronx       City Island  40.849775 -73.786609   \n",
       "3        MoMo               Bronx       City Island  40.848838 -73.782276   \n",
       "4       Steve               Bronx       City Island  40.841144 -73.783052   \n",
       "\n",
       "         room_type  price  minimum_nights  number_of_reviews last_review  \\\n",
       "0  Entire home/apt    110               6                  0         NaN   \n",
       "1     Private room     50               1                  2  2017-10-01   \n",
       "2  Entire home/apt    125               3                 21  2017-09-26   \n",
       "3  Entire home/apt    100               3                  0         NaN   \n",
       "4  Entire home/apt    300               7                  0         NaN   \n",
       "\n",
       "   reviews_per_month  calculated_host_listings_count  availability_365  \n",
       "0                NaN                               1                 0  \n",
       "1               2.00                               1               169  \n",
       "2               0.77                               1               363  \n",
       "3                NaN                               1                90  \n",
       "4                NaN                               1               365  "
      ]
     },
     "execution_count": 7,
     "metadata": {},
     "output_type": "execute_result"
    }
   ],
   "source": [
    "# listings_summary\n",
    "listings_summary.head()"
   ]
  },
  {
   "cell_type": "code",
   "execution_count": 8,
   "metadata": {},
   "outputs": [
    {
     "data": {
      "text/html": [
       "<div>\n",
       "<style scoped>\n",
       "    .dataframe tbody tr th:only-of-type {\n",
       "        vertical-align: middle;\n",
       "    }\n",
       "\n",
       "    .dataframe tbody tr th {\n",
       "        vertical-align: top;\n",
       "    }\n",
       "\n",
       "    .dataframe thead th {\n",
       "        text-align: right;\n",
       "    }\n",
       "</style>\n",
       "<table border=\"1\" class=\"dataframe\">\n",
       "  <thead>\n",
       "    <tr style=\"text-align: right;\">\n",
       "      <th></th>\n",
       "      <th>neighbourhood_group</th>\n",
       "      <th>neighbourhood</th>\n",
       "    </tr>\n",
       "  </thead>\n",
       "  <tbody>\n",
       "    <tr>\n",
       "      <th>0</th>\n",
       "      <td>Bronx</td>\n",
       "      <td>Allerton</td>\n",
       "    </tr>\n",
       "    <tr>\n",
       "      <th>1</th>\n",
       "      <td>Bronx</td>\n",
       "      <td>Baychester</td>\n",
       "    </tr>\n",
       "    <tr>\n",
       "      <th>2</th>\n",
       "      <td>Bronx</td>\n",
       "      <td>Belmont</td>\n",
       "    </tr>\n",
       "    <tr>\n",
       "      <th>3</th>\n",
       "      <td>Bronx</td>\n",
       "      <td>Bronxdale</td>\n",
       "    </tr>\n",
       "    <tr>\n",
       "      <th>4</th>\n",
       "      <td>Bronx</td>\n",
       "      <td>Castle Hill</td>\n",
       "    </tr>\n",
       "  </tbody>\n",
       "</table>\n",
       "</div>"
      ],
      "text/plain": [
       "  neighbourhood_group neighbourhood\n",
       "0               Bronx      Allerton\n",
       "1               Bronx    Baychester\n",
       "2               Bronx       Belmont\n",
       "3               Bronx     Bronxdale\n",
       "4               Bronx   Castle Hill"
      ]
     },
     "execution_count": 8,
     "metadata": {},
     "output_type": "execute_result"
    }
   ],
   "source": [
    "# neighbourhoods\n",
    "neighbourhoods.head()"
   ]
  },
  {
   "cell_type": "code",
   "execution_count": 9,
   "metadata": {},
   "outputs": [
    {
     "data": {
      "text/html": [
       "<div>\n",
       "<style scoped>\n",
       "    .dataframe tbody tr th:only-of-type {\n",
       "        vertical-align: middle;\n",
       "    }\n",
       "\n",
       "    .dataframe tbody tr th {\n",
       "        vertical-align: top;\n",
       "    }\n",
       "\n",
       "    .dataframe thead th {\n",
       "        text-align: right;\n",
       "    }\n",
       "</style>\n",
       "<table border=\"1\" class=\"dataframe\">\n",
       "  <thead>\n",
       "    <tr style=\"text-align: right;\">\n",
       "      <th></th>\n",
       "      <th>listing_id</th>\n",
       "      <th>id</th>\n",
       "      <th>date</th>\n",
       "      <th>reviewer_id</th>\n",
       "      <th>reviewer_name</th>\n",
       "      <th>comments</th>\n",
       "    </tr>\n",
       "  </thead>\n",
       "  <tbody>\n",
       "    <tr>\n",
       "      <th>0</th>\n",
       "      <td>9452127</td>\n",
       "      <td>58944174</td>\n",
       "      <td>2016-01-05</td>\n",
       "      <td>6279455</td>\n",
       "      <td>Ravi</td>\n",
       "      <td>Great place. Helena was prompt to reply and ve...</td>\n",
       "    </tr>\n",
       "    <tr>\n",
       "      <th>1</th>\n",
       "      <td>9452127</td>\n",
       "      <td>59446510</td>\n",
       "      <td>2016-01-10</td>\n",
       "      <td>23770684</td>\n",
       "      <td>Shiv</td>\n",
       "      <td>We had previously stayed at the apartment over...</td>\n",
       "    </tr>\n",
       "    <tr>\n",
       "      <th>2</th>\n",
       "      <td>9452127</td>\n",
       "      <td>59557387</td>\n",
       "      <td>2016-01-11</td>\n",
       "      <td>29070567</td>\n",
       "      <td>Jandall</td>\n",
       "      <td>Helena was a great host and extremely accommod...</td>\n",
       "    </tr>\n",
       "    <tr>\n",
       "      <th>3</th>\n",
       "      <td>9452127</td>\n",
       "      <td>62664325</td>\n",
       "      <td>2016-02-15</td>\n",
       "      <td>58381183</td>\n",
       "      <td>Cody</td>\n",
       "      <td>Helena was extremely accessible throughout the...</td>\n",
       "    </tr>\n",
       "    <tr>\n",
       "      <th>4</th>\n",
       "      <td>9452127</td>\n",
       "      <td>63410004</td>\n",
       "      <td>2016-02-22</td>\n",
       "      <td>29014080</td>\n",
       "      <td>Magnus</td>\n",
       "      <td>Awesome place! Looks just as in photos. Plenty...</td>\n",
       "    </tr>\n",
       "  </tbody>\n",
       "</table>\n",
       "</div>"
      ],
      "text/plain": [
       "   listing_id        id        date  reviewer_id reviewer_name  \\\n",
       "0     9452127  58944174  2016-01-05      6279455          Ravi   \n",
       "1     9452127  59446510  2016-01-10     23770684          Shiv   \n",
       "2     9452127  59557387  2016-01-11     29070567       Jandall   \n",
       "3     9452127  62664325  2016-02-15     58381183          Cody   \n",
       "4     9452127  63410004  2016-02-22     29014080        Magnus   \n",
       "\n",
       "                                            comments  \n",
       "0  Great place. Helena was prompt to reply and ve...  \n",
       "1  We had previously stayed at the apartment over...  \n",
       "2  Helena was a great host and extremely accommod...  \n",
       "3  Helena was extremely accessible throughout the...  \n",
       "4  Awesome place! Looks just as in photos. Plenty...  "
      ]
     },
     "execution_count": 9,
     "metadata": {},
     "output_type": "execute_result"
    }
   ],
   "source": [
    "# reviews_detail \n",
    "reviews_detail.head()"
   ]
  },
  {
   "cell_type": "code",
   "execution_count": 10,
   "metadata": {},
   "outputs": [
    {
     "data": {
      "text/html": [
       "<div>\n",
       "<style scoped>\n",
       "    .dataframe tbody tr th:only-of-type {\n",
       "        vertical-align: middle;\n",
       "    }\n",
       "\n",
       "    .dataframe tbody tr th {\n",
       "        vertical-align: top;\n",
       "    }\n",
       "\n",
       "    .dataframe thead th {\n",
       "        text-align: right;\n",
       "    }\n",
       "</style>\n",
       "<table border=\"1\" class=\"dataframe\">\n",
       "  <thead>\n",
       "    <tr style=\"text-align: right;\">\n",
       "      <th></th>\n",
       "      <th>listing_id</th>\n",
       "      <th>date</th>\n",
       "    </tr>\n",
       "  </thead>\n",
       "  <tbody>\n",
       "    <tr>\n",
       "      <th>0</th>\n",
       "      <td>9452127</td>\n",
       "      <td>2016-01-05</td>\n",
       "    </tr>\n",
       "    <tr>\n",
       "      <th>1</th>\n",
       "      <td>9452127</td>\n",
       "      <td>2016-01-10</td>\n",
       "    </tr>\n",
       "    <tr>\n",
       "      <th>2</th>\n",
       "      <td>9452127</td>\n",
       "      <td>2016-01-11</td>\n",
       "    </tr>\n",
       "    <tr>\n",
       "      <th>3</th>\n",
       "      <td>9452127</td>\n",
       "      <td>2016-02-15</td>\n",
       "    </tr>\n",
       "    <tr>\n",
       "      <th>4</th>\n",
       "      <td>9452127</td>\n",
       "      <td>2016-02-22</td>\n",
       "    </tr>\n",
       "  </tbody>\n",
       "</table>\n",
       "</div>"
      ],
      "text/plain": [
       "   listing_id        date\n",
       "0     9452127  2016-01-05\n",
       "1     9452127  2016-01-10\n",
       "2     9452127  2016-01-11\n",
       "3     9452127  2016-02-15\n",
       "4     9452127  2016-02-22"
      ]
     },
     "execution_count": 10,
     "metadata": {},
     "output_type": "execute_result"
    }
   ],
   "source": [
    "# reviews_summary\n",
    "reviews_summary.head()"
   ]
  },
  {
   "cell_type": "code",
   "execution_count": 11,
   "metadata": {},
   "outputs": [],
   "source": [
    "# neighbourhoods_geojson (remove # in next line to see the dictionary)\n",
    "# neighbourhoods_geojson"
   ]
  },
  {
   "cell_type": "markdown",
   "metadata": {},
   "source": [
    "#### 5.\tRun a regression to explain the price per listing. (Hint: location, reviews, etc. may all explain this)."
   ]
  },
  {
   "cell_type": "code",
   "execution_count": 12,
   "metadata": {},
   "outputs": [],
   "source": [
    "clean_dollar(listings_detail, 'price')"
   ]
  },
  {
   "cell_type": "code",
   "execution_count": 13,
   "metadata": {},
   "outputs": [
    {
     "data": {
      "text/plain": [
       "Index(['id', 'listing_url', 'scrape_id', 'last_scraped', 'name', 'summary',\n",
       "       'space', 'description', 'experiences_offered', 'neighborhood_overview',\n",
       "       'notes', 'transit', 'access', 'interaction', 'house_rules',\n",
       "       'thumbnail_url', 'medium_url', 'picture_url', 'xl_picture_url',\n",
       "       'host_id', 'host_url', 'host_name', 'host_since', 'host_location',\n",
       "       'host_about', 'host_response_time', 'host_response_rate',\n",
       "       'host_acceptance_rate', 'host_is_superhost', 'host_thumbnail_url',\n",
       "       'host_picture_url', 'host_neighbourhood', 'host_listings_count',\n",
       "       'host_total_listings_count', 'host_verifications',\n",
       "       'host_has_profile_pic', 'host_identity_verified', 'street',\n",
       "       'neighbourhood', 'neighbourhood_cleansed',\n",
       "       'neighbourhood_group_cleansed', 'city', 'state', 'zipcode', 'market',\n",
       "       'smart_location', 'country_code', 'country', 'latitude', 'longitude',\n",
       "       'is_location_exact', 'property_type', 'room_type', 'accommodates',\n",
       "       'bathrooms', 'bedrooms', 'beds', 'bed_type', 'amenities', 'square_feet',\n",
       "       'price', 'weekly_price', 'monthly_price', 'security_deposit',\n",
       "       'cleaning_fee', 'guests_included', 'extra_people', 'minimum_nights',\n",
       "       'maximum_nights', 'calendar_updated', 'has_availability',\n",
       "       'availability_30', 'availability_60', 'availability_90',\n",
       "       'availability_365', 'calendar_last_scraped', 'number_of_reviews',\n",
       "       'first_review', 'last_review', 'review_scores_rating',\n",
       "       'review_scores_accuracy', 'review_scores_cleanliness',\n",
       "       'review_scores_checkin', 'review_scores_communication',\n",
       "       'review_scores_location', 'review_scores_value', 'requires_license',\n",
       "       'license', 'jurisdiction_names', 'instant_bookable',\n",
       "       'is_business_travel_ready', 'cancellation_policy',\n",
       "       'require_guest_profile_picture', 'require_guest_phone_verification',\n",
       "       'calculated_host_listings_count', 'reviews_per_month'],\n",
       "      dtype='object')"
      ]
     },
     "execution_count": 13,
     "metadata": {},
     "output_type": "execute_result"
    }
   ],
   "source": [
    "listings_detail.columns"
   ]
  },
  {
   "cell_type": "markdown",
   "metadata": {},
   "source": [
    "##### Inspect the features"
   ]
  },
  {
   "cell_type": "markdown",
   "metadata": {},
   "source": [
    "###### host_response_time"
   ]
  },
  {
   "cell_type": "code",
   "execution_count": 14,
   "metadata": {},
   "outputs": [
    {
     "data": {
      "text/plain": [
       "array([nan, 'within an hour', 'within a few hours', 'a few days or more',\n",
       "       'within a day'], dtype=object)"
      ]
     },
     "execution_count": 14,
     "metadata": {},
     "output_type": "execute_result"
    }
   ],
   "source": [
    "listings_detail.host_response_time.unique()"
   ]
  },
  {
   "cell_type": "code",
   "execution_count": 15,
   "metadata": {},
   "outputs": [],
   "source": [
    "def plot_general_distribution(df, feature, xlabels = True):\n",
    "    figure(num=None, figsize=(12, 6))\n",
    "    val_counts = df[feature].value_counts(dropna=False)\n",
    "    cats = np.array(list(val_counts.keys()))\n",
    "    counts = list(val_counts)\n",
    "\n",
    "    title = feature + ': counts'\n",
    "    Ys = counts\n",
    "    Xs = cats\n",
    "    plt.bar(Xs, Ys)\n",
    "    plt.title(title)\n",
    "    plt.xlabel('Categories')\n",
    "    plt.ylabel('counts')\n",
    "    plt.xticks(Xs, Xs, rotation= 45)\n",
    "    if xlabels == False:\n",
    "        plt.tick_params(\n",
    "            axis='x',          \n",
    "            which='both',      \n",
    "            bottom=False,      \n",
    "            top=False,         \n",
    "            labelbottom=False)\n",
    "    plt.show()"
   ]
  },
  {
   "cell_type": "code",
   "execution_count": 16,
   "metadata": {},
   "outputs": [
    {
     "data": {
      "image/png": "[encoded data removed]",
      "text/plain": [
       "<Figure size 864x432 with 1 Axes>"
      ]
     },
     "metadata": {
      "needs_background": "light"
     },
     "output_type": "display_data"
    }
   ],
   "source": [
    "# Plot distribution\n",
    "plot_general_distribution(listings_detail, 'host_response_time')"
   ]
  },
  {
   "cell_type": "markdown",
   "metadata": {},
   "source": [
    "This field is very hard to use in a linear regression context due to the following reasons: \n",
    "\n",
    "    1. It is hard to ordinally scale these buckets since there will probably a different effect when going from 'within an \n",
    "    hour' to 'within a few hours'. However, the Linear Regression Model will attempt to attibute one single coefficient to \n",
    "    the entire variable.\n",
    "    2. Even when trying to make a good ordinal sequence (eg within an hour = 0, within a few hours = 1, within a day = 3,\n",
    "    within a few days or more) it is still hard to make sense of the NaN variables. How should we order them when we keep \n",
    "    them in the model? Leaving out the NaN values would mean that we leave out roughly 1/3 of the dataset and this is also \n",
    "    not interesting"
   ]
  },
  {
   "cell_type": "markdown",
   "metadata": {},
   "source": [
    "###### host_response_rate"
   ]
  },
  {
   "cell_type": "code",
   "execution_count": 17,
   "metadata": {},
   "outputs": [
    {
     "data": {
      "text/plain": [
       "array([nan, '100%', '33%', '75%', '84%', '90%', '80%', '0%', '70%', '99%',\n",
       "       '50%', '69%', '88%', '71%', '67%', '89%', '83%', '60%', '14%',\n",
       "       '86%', '56%', '97%', '98%', '91%', '78%', '95%', '87%', '57%',\n",
       "       '38%', '96%', '94%', '20%', '73%', '93%', '40%', '17%', '82%',\n",
       "       '25%', '79%', '92%', '63%', '58%', '43%', '77%', '29%', '30%',\n",
       "       '44%', '36%', '53%', '64%', '85%', '81%', '74%', '10%', '76%',\n",
       "       '46%', '65%', '27%', '54%', '55%', '66%', '68%', '21%', '61%',\n",
       "       '72%', '26%', '22%', '15%', '52%', '6%', '41%', '47%', '35%',\n",
       "       '62%', '59%'], dtype=object)"
      ]
     },
     "execution_count": 17,
     "metadata": {},
     "output_type": "execute_result"
    }
   ],
   "source": [
    "listings_detail.host_response_rate.unique()"
   ]
  },
  {
   "cell_type": "code",
   "execution_count": 18,
   "metadata": {},
   "outputs": [
    {
     "data": {
      "image/png": "[encoded data removed]",
      "text/plain": [
       "<Figure size 864x432 with 1 Axes>"
      ]
     },
     "metadata": {
      "needs_background": "light"
     },
     "output_type": "display_data"
    }
   ],
   "source": [
    "plot_general_distribution(listings_detail, 'host_response_rate')"
   ]
  },
  {
   "cell_type": "code",
   "execution_count": 19,
   "metadata": {},
   "outputs": [
    {
     "data": {
      "text/plain": [
       "0.30866258997675833"
      ]
     },
     "execution_count": 19,
     "metadata": {},
     "output_type": "execute_result"
    }
   ],
   "source": [
    "sum(listings_detail['host_response_rate'].isnull()) / len(listings_detail)"
   ]
  },
  {
   "cell_type": "code",
   "execution_count": 20,
   "metadata": {},
   "outputs": [],
   "source": [
    "clean_percentage(listings_detail, 'host_response_rate')"
   ]
  },
  {
   "cell_type": "code",
   "execution_count": 21,
   "metadata": {},
   "outputs": [],
   "source": [
    "# Less interesting to use at first sight. Might need some bucketing"
   ]
  },
  {
   "cell_type": "markdown",
   "metadata": {},
   "source": [
    "###### host_is_superhost"
   ]
  },
  {
   "cell_type": "code",
   "execution_count": 22,
   "metadata": {},
   "outputs": [
    {
     "data": {
      "text/plain": [
       "array(['f', 't', nan], dtype=object)"
      ]
     },
     "execution_count": 22,
     "metadata": {},
     "output_type": "execute_result"
    }
   ],
   "source": [
    "listings_detail.host_is_superhost.unique()"
   ]
  },
  {
   "cell_type": "code",
   "execution_count": 23,
   "metadata": {},
   "outputs": [
    {
     "data": {
      "image/png": "[encoded data removed]",
      "text/plain": [
       "<Figure size 864x432 with 1 Axes>"
      ]
     },
     "metadata": {
      "needs_background": "light"
     },
     "output_type": "display_data"
    }
   ],
   "source": [
    "plot_general_distribution(listings_detail, 'host_is_superhost')"
   ]
  },
  {
   "cell_type": "code",
   "execution_count": 24,
   "metadata": {},
   "outputs": [],
   "source": [
    "listings_detail['host_is_superhost'].fillna('f', inplace=True)\n",
    "listings_detail['host_is_superhost'] = listings_detail['host_is_superhost'].apply(lambda x: 1 if x == 't' else 0)"
   ]
  },
  {
   "cell_type": "code",
   "execution_count": 25,
   "metadata": {},
   "outputs": [
    {
     "data": {
      "image/png": "[encoded data removed]",
      "text/plain": [
       "<Figure size 864x432 with 1 Axes>"
      ]
     },
     "metadata": {
      "needs_background": "light"
     },
     "output_type": "display_data"
    }
   ],
   "source": [
    "plot_general_distribution(listings_detail, 'host_is_superhost')"
   ]
  },
  {
   "cell_type": "markdown",
   "metadata": {},
   "source": [
    "###### host_neighbourhood"
   ]
  },
  {
   "cell_type": "code",
   "execution_count": 26,
   "metadata": {},
   "outputs": [
    {
     "data": {
      "text/plain": [
       "401"
      ]
     },
     "execution_count": 26,
     "metadata": {},
     "output_type": "execute_result"
    }
   ],
   "source": [
    "len(listings_detail.host_neighbourhood.unique())"
   ]
  },
  {
   "cell_type": "code",
   "execution_count": 27,
   "metadata": {},
   "outputs": [],
   "source": [
    "# This one can possibly be clustered before using it as a feature. This is out of scope for this report"
   ]
  },
  {
   "cell_type": "markdown",
   "metadata": {},
   "source": [
    "###### host_listings_count"
   ]
  },
  {
   "cell_type": "code",
   "execution_count": 28,
   "metadata": {},
   "outputs": [
    {
     "data": {
      "text/html": [
       "<div>\n",
       "<style scoped>\n",
       "    .dataframe tbody tr th:only-of-type {\n",
       "        vertical-align: middle;\n",
       "    }\n",
       "\n",
       "    .dataframe tbody tr th {\n",
       "        vertical-align: top;\n",
       "    }\n",
       "\n",
       "    .dataframe thead th {\n",
       "        text-align: right;\n",
       "    }\n",
       "</style>\n",
       "<table border=\"1\" class=\"dataframe\">\n",
       "  <thead>\n",
       "    <tr style=\"text-align: right;\">\n",
       "      <th></th>\n",
       "      <th>id</th>\n",
       "      <th>listing_url</th>\n",
       "      <th>scrape_id</th>\n",
       "      <th>last_scraped</th>\n",
       "      <th>name</th>\n",
       "      <th>summary</th>\n",
       "      <th>space</th>\n",
       "      <th>description</th>\n",
       "      <th>experiences_offered</th>\n",
       "      <th>neighborhood_overview</th>\n",
       "      <th>...</th>\n",
       "      <th>requires_license</th>\n",
       "      <th>license</th>\n",
       "      <th>jurisdiction_names</th>\n",
       "      <th>instant_bookable</th>\n",
       "      <th>is_business_travel_ready</th>\n",
       "      <th>cancellation_policy</th>\n",
       "      <th>require_guest_profile_picture</th>\n",
       "      <th>require_guest_phone_verification</th>\n",
       "      <th>calculated_host_listings_count</th>\n",
       "      <th>reviews_per_month</th>\n",
       "    </tr>\n",
       "  </thead>\n",
       "  <tbody>\n",
       "    <tr>\n",
       "      <th>35957</th>\n",
       "      <td>18580576</td>\n",
       "      <td>https://www.airbnb.com/rooms/18580576</td>\n",
       "      <td>20171002002103</td>\n",
       "      <td>2017-10-03</td>\n",
       "      <td>Charming 1BR in the Upper East Side</td>\n",
       "      <td>At this Sonder you'll love the vibrant furnish...</td>\n",
       "      <td>Every booking is instantly confirmed. Every ca...</td>\n",
       "      <td>At this Sonder you'll love the vibrant furnish...</td>\n",
       "      <td>none</td>\n",
       "      <td>The Upper East Side has plenty to offer within...</td>\n",
       "      <td>...</td>\n",
       "      <td>f</td>\n",
       "      <td>NaN</td>\n",
       "      <td>NaN</td>\n",
       "      <td>t</td>\n",
       "      <td>t</td>\n",
       "      <td>strict</td>\n",
       "      <td>f</td>\n",
       "      <td>f</td>\n",
       "      <td>2</td>\n",
       "      <td>1.62</td>\n",
       "    </tr>\n",
       "    <tr>\n",
       "      <th>36219</th>\n",
       "      <td>18109722</td>\n",
       "      <td>https://www.airbnb.com/rooms/18109722</td>\n",
       "      <td>20171002002103</td>\n",
       "      <td>2017-10-02</td>\n",
       "      <td>Vibrant 4BR in Upper East Side</td>\n",
       "      <td>At this Sonder you'll love the mid-century dec...</td>\n",
       "      <td>Every booking is instantly confirmed. Every ca...</td>\n",
       "      <td>At this Sonder you'll love the mid-century dec...</td>\n",
       "      <td>none</td>\n",
       "      <td>The Upper East Side has plenty to offer within...</td>\n",
       "      <td>...</td>\n",
       "      <td>f</td>\n",
       "      <td>NaN</td>\n",
       "      <td>NaN</td>\n",
       "      <td>t</td>\n",
       "      <td>t</td>\n",
       "      <td>strict</td>\n",
       "      <td>f</td>\n",
       "      <td>f</td>\n",
       "      <td>2</td>\n",
       "      <td>3.14</td>\n",
       "    </tr>\n",
       "  </tbody>\n",
       "</table>\n",
       "<p>2 rows × 96 columns</p>\n",
       "</div>"
      ],
      "text/plain": [
       "             id                            listing_url       scrape_id  \\\n",
       "35957  18580576  https://www.airbnb.com/rooms/18580576  20171002002103   \n",
       "36219  18109722  https://www.airbnb.com/rooms/18109722  20171002002103   \n",
       "\n",
       "      last_scraped                                 name  \\\n",
       "35957   2017-10-03  Charming 1BR in the Upper East Side   \n",
       "36219   2017-10-02       Vibrant 4BR in Upper East Side   \n",
       "\n",
       "                                                 summary  \\\n",
       "35957  At this Sonder you'll love the vibrant furnish...   \n",
       "36219  At this Sonder you'll love the mid-century dec...   \n",
       "\n",
       "                                                   space  \\\n",
       "35957  Every booking is instantly confirmed. Every ca...   \n",
       "36219  Every booking is instantly confirmed. Every ca...   \n",
       "\n",
       "                                             description experiences_offered  \\\n",
       "35957  At this Sonder you'll love the vibrant furnish...                none   \n",
       "36219  At this Sonder you'll love the mid-century dec...                none   \n",
       "\n",
       "                                   neighborhood_overview  ...  \\\n",
       "35957  The Upper East Side has plenty to offer within...  ...   \n",
       "36219  The Upper East Side has plenty to offer within...  ...   \n",
       "\n",
       "      requires_license license jurisdiction_names instant_bookable  \\\n",
       "35957                f     NaN                NaN                t   \n",
       "36219                f     NaN                NaN                t   \n",
       "\n",
       "      is_business_travel_ready cancellation_policy  \\\n",
       "35957                        t              strict   \n",
       "36219                        t              strict   \n",
       "\n",
       "      require_guest_profile_picture require_guest_phone_verification  \\\n",
       "35957                             f                                f   \n",
       "36219                             f                                f   \n",
       "\n",
       "      calculated_host_listings_count  reviews_per_month  \n",
       "35957                              2               1.62  \n",
       "36219                              2               3.14  \n",
       "\n",
       "[2 rows x 96 columns]"
      ]
     },
     "execution_count": 28,
     "metadata": {},
     "output_type": "execute_result"
    }
   ],
   "source": [
    "listings_detail[listings_detail.host_listings_count == 648]"
   ]
  },
  {
   "cell_type": "code",
   "execution_count": 29,
   "metadata": {},
   "outputs": [
    {
     "data": {
      "image/png": "[encoded data removed]",
      "text/plain": [
       "<Figure size 864x432 with 1 Axes>"
      ]
     },
     "metadata": {
      "needs_background": "light"
     },
     "output_type": "display_data"
    }
   ],
   "source": [
    "plot_general_distribution(listings_detail, 'host_listings_count')"
   ]
  },
  {
   "cell_type": "code",
   "execution_count": 30,
   "metadata": {},
   "outputs": [],
   "source": [
    "# Try to clean the listings count \n",
    "grouped = listings_detail.groupby('host_id').count()['id']\n",
    "grouped_df = pd.DataFrame({\n",
    "    'host_id' : list(grouped.keys()),\n",
    "    'host_listings_count_calculated' : list(grouped)\n",
    "})\n",
    "listings_detail = pd.merge(listings_detail, grouped_df, how = 'inner', on = 'host_id')"
   ]
  },
  {
   "cell_type": "code",
   "execution_count": 31,
   "metadata": {},
   "outputs": [
    {
     "data": {
      "image/png": "[encoded data removed]",
      "text/plain": [
       "<Figure size 864x432 with 1 Axes>"
      ]
     },
     "metadata": {
      "needs_background": "light"
     },
     "output_type": "display_data"
    }
   ],
   "source": [
    "plot_general_distribution(listings_detail, 'host_listings_count_calculated')"
   ]
  },
  {
   "cell_type": "markdown",
   "metadata": {},
   "source": [
    "######  host_total_listings_count"
   ]
  },
  {
   "cell_type": "code",
   "execution_count": 32,
   "metadata": {},
   "outputs": [
    {
     "data": {
      "text/plain": [
       "array([  1.,   4.,   5.,   3.,   2.,   8.,   6.,   0.,  nan,  12.,  16.,\n",
       "        11.,   9.,  24.,  14.,   7.,  20.,  15.,  10.,  19.,  47.,  23.,\n",
       "        22.,  35.,  17.,  13.,  39., 236.,  27., 296.,  94., 979.,  18.,\n",
       "        31.,  41.,  28., 159.,  46.,  21.,  49., 113.,  38.,  42.,  33.,\n",
       "       258.,  54., 248.,  25.,  85., 316.,  52.,  64.,  56., 149., 648.,\n",
       "        83.,  36., 218.])"
      ]
     },
     "execution_count": 32,
     "metadata": {},
     "output_type": "execute_result"
    }
   ],
   "source": [
    "listings_detail.host_total_listings_count.unique()"
   ]
  },
  {
   "cell_type": "code",
   "execution_count": 33,
   "metadata": {},
   "outputs": [],
   "source": [
    "# This is the same as above"
   ]
  },
  {
   "cell_type": "markdown",
   "metadata": {},
   "source": [
    "###### host_has_profile_pic"
   ]
  },
  {
   "cell_type": "code",
   "execution_count": 34,
   "metadata": {},
   "outputs": [
    {
     "data": {
      "text/plain": [
       "array(['t', nan, 'f'], dtype=object)"
      ]
     },
     "execution_count": 34,
     "metadata": {},
     "output_type": "execute_result"
    }
   ],
   "source": [
    "listings_detail.host_has_profile_pic.unique()"
   ]
  },
  {
   "cell_type": "code",
   "execution_count": 35,
   "metadata": {},
   "outputs": [
    {
     "data": {
      "image/png": "[encoded data removed]",
      "text/plain": [
       "<Figure size 864x432 with 1 Axes>"
      ]
     },
     "metadata": {
      "needs_background": "light"
     },
     "output_type": "display_data"
    }
   ],
   "source": [
    "plot_general_distribution(listings_detail, 'host_has_profile_pic')"
   ]
  },
  {
   "cell_type": "code",
   "execution_count": 36,
   "metadata": {},
   "outputs": [],
   "source": [
    "# Mostly true, so we don't expect this to add a lot of value \n",
    "listings_detail['host_has_profile_pic'].fillna('f', inplace=True)\n",
    "listings_detail['host_has_profile_pic'] = listings_detail['host_has_profile_pic'].apply(lambda x: 1 if x == 't' else 0)"
   ]
  },
  {
   "cell_type": "code",
   "execution_count": 37,
   "metadata": {
    "scrolled": false
   },
   "outputs": [
    {
     "data": {
      "image/png": "[encoded data removed]",
      "text/plain": [
       "<Figure size 864x432 with 1 Axes>"
      ]
     },
     "metadata": {
      "needs_background": "light"
     },
     "output_type": "display_data"
    }
   ],
   "source": [
    "plot_general_distribution(listings_detail, 'host_has_profile_pic')"
   ]
  },
  {
   "cell_type": "markdown",
   "metadata": {},
   "source": [
    "We don't expect much from this variable"
   ]
  },
  {
   "cell_type": "markdown",
   "metadata": {},
   "source": [
    "###### host_identity_verified"
   ]
  },
  {
   "cell_type": "code",
   "execution_count": 38,
   "metadata": {},
   "outputs": [
    {
     "data": {
      "text/plain": [
       "array(['t', 'f', nan], dtype=object)"
      ]
     },
     "execution_count": 38,
     "metadata": {},
     "output_type": "execute_result"
    }
   ],
   "source": [
    "listings_detail.host_identity_verified.unique()"
   ]
  },
  {
   "cell_type": "code",
   "execution_count": 39,
   "metadata": {},
   "outputs": [
    {
     "data": {
      "image/png": "[encoded data removed]",
      "text/plain": [
       "<Figure size 864x432 with 1 Axes>"
      ]
     },
     "metadata": {
      "needs_background": "light"
     },
     "output_type": "display_data"
    }
   ],
   "source": [
    "plot_general_distribution(listings_detail, 'host_identity_verified')"
   ]
  },
  {
   "cell_type": "code",
   "execution_count": 40,
   "metadata": {},
   "outputs": [],
   "source": [
    "# Might lead to interesting results\n",
    "listings_detail['host_identity_verified'].fillna('f', inplace=True)\n",
    "listings_detail['host_identity_verified'] = listings_detail['host_identity_verified'].apply(lambda x: 1 if x == 't' else 0)"
   ]
  },
  {
   "cell_type": "code",
   "execution_count": 41,
   "metadata": {},
   "outputs": [
    {
     "data": {
      "image/png": "[encoded data removed]",
      "text/plain": [
       "<Figure size 864x432 with 1 Axes>"
      ]
     },
     "metadata": {
      "needs_background": "light"
     },
     "output_type": "display_data"
    }
   ],
   "source": [
    "plot_general_distribution(listings_detail, 'host_identity_verified')"
   ]
  },
  {
   "cell_type": "markdown",
   "metadata": {},
   "source": [
    "###### room_type"
   ]
  },
  {
   "cell_type": "code",
   "execution_count": 42,
   "metadata": {},
   "outputs": [
    {
     "data": {
      "image/png": "[encoded data removed]",
      "text/plain": [
       "<Figure size 864x432 with 1 Axes>"
      ]
     },
     "metadata": {
      "needs_background": "light"
     },
     "output_type": "display_data"
    }
   ],
   "source": [
    "plot_general_distribution(listings_detail, 'room_type')"
   ]
  },
  {
   "cell_type": "code",
   "execution_count": 43,
   "metadata": {},
   "outputs": [],
   "source": [
    "listings_detail['is_entire_home_or_apt'] = listings_detail['room_type'].apply(lambda x: 1 if x == 'Entire home/apt' else 0)\n",
    "listings_detail['is_private_room'] = listings_detail['room_type'].apply(lambda x: 1 if x == 'Private room' else 0)\n",
    "listings_detail['is_shared_room'] = listings_detail['room_type'].apply(lambda x: 1 if x == 'Shared room' else 0)"
   ]
  },
  {
   "cell_type": "markdown",
   "metadata": {},
   "source": [
    "###### accommodates"
   ]
  },
  {
   "cell_type": "code",
   "execution_count": 44,
   "metadata": {
    "scrolled": false
   },
   "outputs": [
    {
     "data": {
      "image/png": "[encoded data removed]",
      "text/plain": [
       "<Figure size 864x432 with 1 Axes>"
      ]
     },
     "metadata": {
      "needs_background": "light"
     },
     "output_type": "display_data"
    }
   ],
   "source": [
    "plot_general_distribution(listings_detail, 'accommodates')"
   ]
  },
  {
   "cell_type": "code",
   "execution_count": 45,
   "metadata": {
    "scrolled": false
   },
   "outputs": [
    {
     "data": {
      "text/plain": [
       "104"
      ]
     },
     "execution_count": 45,
     "metadata": {},
     "output_type": "execute_result"
    }
   ],
   "source": [
    "len(listings_detail[listings_detail['accommodates'] == 16])"
   ]
  },
  {
   "cell_type": "markdown",
   "metadata": {},
   "source": [
    "For now, we don't make any decisions on the outlying number of accommodates since we believe that the number of accommodates can have a huge impact on the price. I.e. leaving out the listings for 16 accommodates might lead to missing out information. When we map the outliers to e.g. the median or to a maximum allowable value, then this might shift our regression too much. "
   ]
  },
  {
   "cell_type": "markdown",
   "metadata": {},
   "source": [
    "###### bathrooms"
   ]
  },
  {
   "cell_type": "code",
   "execution_count": 46,
   "metadata": {},
   "outputs": [
    {
     "data": {
      "text/plain": [
       "28"
      ]
     },
     "execution_count": 46,
     "metadata": {},
     "output_type": "execute_result"
    }
   ],
   "source": [
    "len(listings_detail.property_type.unique())"
   ]
  },
  {
   "cell_type": "code",
   "execution_count": 47,
   "metadata": {},
   "outputs": [
    {
     "data": {
      "image/png": "[encoded data removed]",
      "text/plain": [
       "<Figure size 864x432 with 1 Axes>"
      ]
     },
     "metadata": {
      "needs_background": "light"
     },
     "output_type": "display_data"
    }
   ],
   "source": [
    "plot_general_distribution(listings_detail, 'bathrooms')"
   ]
  },
  {
   "cell_type": "code",
   "execution_count": 48,
   "metadata": {},
   "outputs": [
    {
     "data": {
      "text/plain": [
       "1.0     38014\n",
       "2.0      3271\n",
       "1.5      1874\n",
       "2.5       374\n",
       "3.0       264\n",
       "NaN       144\n",
       "4.0        97\n",
       "0.0        84\n",
       "0.5        80\n",
       "3.5        62\n",
       "5.0        18\n",
       "4.5        14\n",
       "6.0         8\n",
       "5.5         5\n",
       "8.0         5\n",
       "15.5        1\n",
       "7.0         1\n",
       "6.5         1\n",
       "Name: bathrooms, dtype: int64"
      ]
     },
     "execution_count": 48,
     "metadata": {},
     "output_type": "execute_result"
    }
   ],
   "source": [
    "listings_detail['bathrooms'].value_counts(dropna=False)"
   ]
  },
  {
   "cell_type": "code",
   "execution_count": 49,
   "metadata": {},
   "outputs": [],
   "source": [
    "# fill na's with the modus\n",
    "listings_detail['bathrooms'].fillna(1, inplace=True)\n",
    "\n",
    "# Drop the outlier\n",
    "listings_detail = listings_detail[listings_detail['bathrooms'] < 15]"
   ]
  },
  {
   "cell_type": "markdown",
   "metadata": {},
   "source": [
    "###### beds"
   ]
  },
  {
   "cell_type": "code",
   "execution_count": 50,
   "metadata": {},
   "outputs": [
    {
     "data": {
      "text/plain": [
       "28"
      ]
     },
     "execution_count": 50,
     "metadata": {},
     "output_type": "execute_result"
    }
   ],
   "source": [
    "len(listings_detail.property_type.unique())"
   ]
  },
  {
   "cell_type": "code",
   "execution_count": 51,
   "metadata": {},
   "outputs": [
    {
     "data": {
      "image/png": "[encoded data removed]",
      "text/plain": [
       "<Figure size 864x432 with 1 Axes>"
      ]
     },
     "metadata": {
      "needs_background": "light"
     },
     "output_type": "display_data"
    }
   ],
   "source": [
    "plot_general_distribution(listings_detail, 'beds')"
   ]
  },
  {
   "cell_type": "code",
   "execution_count": 52,
   "metadata": {},
   "outputs": [
    {
     "data": {
      "text/plain": [
       "1.0     29565\n",
       "2.0      9181\n",
       "3.0      3156\n",
       "4.0      1317\n",
       "5.0       519\n",
       "6.0       264\n",
       "NaN        91\n",
       "7.0        87\n",
       "8.0        57\n",
       "10.0       23\n",
       "9.0        19\n",
       "12.0        9\n",
       "11.0        8\n",
       "13.0        7\n",
       "16.0        6\n",
       "18.0        2\n",
       "0.0         2\n",
       "15.0        2\n",
       "14.0        1\n",
       "Name: beds, dtype: int64"
      ]
     },
     "execution_count": 52,
     "metadata": {},
     "output_type": "execute_result"
    }
   ],
   "source": [
    "listings_detail['beds'].value_counts(dropna=False)"
   ]
  },
  {
   "cell_type": "code",
   "execution_count": 53,
   "metadata": {},
   "outputs": [],
   "source": [
    "# nans to mode \n",
    "listings_detail['beds'].fillna(1, inplace=True)\n",
    "\n",
    "# throw away the ones without a bed \n",
    "listings_detail = listings_detail[listings_detail['beds'] > 0]\n",
    "\n",
    "# throw away the one with 40 beds\n",
    "listings_detail = listings_detail[listings_detail['beds'] < 40]"
   ]
  },
  {
   "cell_type": "markdown",
   "metadata": {},
   "source": [
    "###### bed_type"
   ]
  },
  {
   "cell_type": "code",
   "execution_count": 54,
   "metadata": {},
   "outputs": [
    {
     "data": {
      "image/png": "[encoded data removed]",
      "text/plain": [
       "<Figure size 864x432 with 1 Axes>"
      ]
     },
     "metadata": {
      "needs_background": "light"
     },
     "output_type": "display_data"
    }
   ],
   "source": [
    "plot_general_distribution(listings_detail, 'bed_type')"
   ]
  },
  {
   "cell_type": "markdown",
   "metadata": {},
   "source": [
    "###### square_feet "
   ]
  },
  {
   "cell_type": "code",
   "execution_count": 55,
   "metadata": {},
   "outputs": [
    {
     "data": {
      "text/plain": [
       "count     549.000000\n",
       "mean      727.732240\n",
       "std       633.253518\n",
       "min         0.000000\n",
       "25%       325.000000\n",
       "50%       700.000000\n",
       "75%       925.000000\n",
       "max      5000.000000\n",
       "Name: square_feet, dtype: float64"
      ]
     },
     "execution_count": 55,
     "metadata": {},
     "output_type": "execute_result"
    }
   ],
   "source": [
    "listings_detail.square_feet.describe()"
   ]
  },
  {
   "cell_type": "code",
   "execution_count": 56,
   "metadata": {},
   "outputs": [
    {
     "data": {
      "text/plain": [
       "array([[<matplotlib.axes._subplots.AxesSubplot object at 0x0000018809BA0128>]],\n",
       "      dtype=object)"
      ]
     },
     "execution_count": 56,
     "metadata": {},
     "output_type": "execute_result"
    },
    {
     "data": {
      "image/png": "[encoded data removed]",
      "text/plain": [
       "<Figure size 432x288 with 1 Axes>"
      ]
     },
     "metadata": {
      "needs_background": "light"
     },
     "output_type": "display_data"
    }
   ],
   "source": [
    "listings_detail.hist(column='square_feet', bins=100)"
   ]
  },
  {
   "cell_type": "code",
   "execution_count": 57,
   "metadata": {},
   "outputs": [
    {
     "name": "stderr",
     "output_type": "stream",
     "text": [
      "D:\\Anaconda\\lib\\site-packages\\numpy\\lib\\function_base.py:3826: RuntimeWarning: Invalid value encountered in percentile\n",
      "  interpolation=interpolation)\n"
     ]
    }
   ],
   "source": [
    "Q1 = np.percentile(listings_detail[\"square_feet\"], 25)\n",
    "Q3 = np.percentile(listings_detail[\"square_feet\"], 75)\n",
    "IQR = Q3 - Q1\n",
    "\n",
    "lower_bound = Q1 - 1.5 * IQR\n",
    "upper_bound = Q1 + 1.5 * IQR"
   ]
  },
  {
   "cell_type": "code",
   "execution_count": 58,
   "metadata": {},
   "outputs": [
    {
     "data": {
      "text/plain": [
       "0.9876111386920612"
      ]
     },
     "execution_count": 58,
     "metadata": {},
     "output_type": "execute_result"
    }
   ],
   "source": [
    "sum(listings_detail[\"square_feet\"].isnull()) /len(listings_detail)"
   ]
  },
  {
   "cell_type": "markdown",
   "metadata": {},
   "source": [
    "Unfortunately, the field contains a lot of missing values"
   ]
  },
  {
   "cell_type": "markdown",
   "metadata": {},
   "source": [
    "###### security_deposit "
   ]
  },
  {
   "cell_type": "code",
   "execution_count": 59,
   "metadata": {},
   "outputs": [],
   "source": [
    "# Clean security_deposit  \n",
    "listings_detail['security_deposit'] = listings_detail['security_deposit'].str.replace(\"$\",\"\")\n",
    "listings_detail['security_deposit'] = listings_detail['security_deposit'].str.replace(\",\",\"\")\n",
    "listings_detail.security_deposit  = pd.to_numeric(listings_detail.security_deposit, downcast = 'float')"
   ]
  },
  {
   "cell_type": "code",
   "execution_count": 60,
   "metadata": {},
   "outputs": [
    {
     "data": {
      "text/plain": [
       "array([[<matplotlib.axes._subplots.AxesSubplot object at 0x0000018808913550>]],\n",
       "      dtype=object)"
      ]
     },
     "execution_count": 60,
     "metadata": {},
     "output_type": "execute_result"
    },
    {
     "data": {
      "image/png": "[encoded data removed]",
      "text/plain": [
       "<Figure size 432x288 with 1 Axes>"
      ]
     },
     "metadata": {
      "needs_background": "light"
     },
     "output_type": "display_data"
    }
   ],
   "source": [
    "listings_detail.hist(column='security_deposit', bins=100)"
   ]
  },
  {
   "cell_type": "code",
   "execution_count": 61,
   "metadata": {},
   "outputs": [
    {
     "data": {
      "text/plain": [
       "count    23614.000000\n",
       "mean       293.176453\n",
       "std        412.680389\n",
       "min          0.000000\n",
       "25%        100.000000\n",
       "50%        200.000000\n",
       "75%        400.000000\n",
       "max       5100.000000\n",
       "Name: security_deposit, dtype: float64"
      ]
     },
     "execution_count": 61,
     "metadata": {},
     "output_type": "execute_result"
    }
   ],
   "source": [
    "listings_detail.security_deposit.describe()"
   ]
  },
  {
   "cell_type": "code",
   "execution_count": 62,
   "metadata": {},
   "outputs": [
    {
     "data": {
      "text/plain": [
       "200.0"
      ]
     },
     "execution_count": 62,
     "metadata": {},
     "output_type": "execute_result"
    }
   ],
   "source": [
    "listings_detail.security_deposit.median()"
   ]
  },
  {
   "cell_type": "code",
   "execution_count": 63,
   "metadata": {},
   "outputs": [
    {
     "name": "stdout",
     "output_type": "stream",
     "text": [
      "20700\n",
      "0.46712100013539737\n"
     ]
    }
   ],
   "source": [
    "print(sum(listings_detail['security_deposit'].isnull()))\n",
    "print(sum(listings_detail['security_deposit'].isnull()) / len(listings_detail))"
   ]
  },
  {
   "cell_type": "markdown",
   "metadata": {},
   "source": [
    "Almost 50% is missing. We cannot use this field"
   ]
  },
  {
   "cell_type": "markdown",
   "metadata": {},
   "source": [
    "###### cleaning_fee "
   ]
  },
  {
   "cell_type": "code",
   "execution_count": 64,
   "metadata": {},
   "outputs": [],
   "source": [
    "# Clean cleaning_fee  \n",
    "listings_detail['cleaning_fee'] = listings_detail['cleaning_fee'].str.replace(\"$\",\"\")\n",
    "listings_detail['cleaning_fee'] = listings_detail['cleaning_fee'].str.replace(\",\",\"\")\n",
    "listings_detail.cleaning_fee  = pd.to_numeric(listings_detail.cleaning_fee, downcast = 'float')"
   ]
  },
  {
   "cell_type": "code",
   "execution_count": 65,
   "metadata": {},
   "outputs": [
    {
     "name": "stdout",
     "output_type": "stream",
     "text": [
      "12203\n",
      "0.27537572776097846\n"
     ]
    }
   ],
   "source": [
    "# Number NA\n",
    "print(sum(listings_detail['cleaning_fee'].isnull()))\n",
    "\n",
    "# Percentage NA\n",
    "print(sum(listings_detail['cleaning_fee'].isnull()) / len(listings_detail))"
   ]
  },
  {
   "cell_type": "code",
   "execution_count": 66,
   "metadata": {},
   "outputs": [
    {
     "data": {
      "text/plain": [
       "array([[<matplotlib.axes._subplots.AxesSubplot object at 0x000001887FD10BA8>]],\n",
       "      dtype=object)"
      ]
     },
     "execution_count": 66,
     "metadata": {},
     "output_type": "execute_result"
    },
    {
     "data": {
      "image/png": "[encoded data removed]",
      "text/plain": [
       "<Figure size 432x288 with 1 Axes>"
      ]
     },
     "metadata": {
      "needs_background": "light"
     },
     "output_type": "display_data"
    }
   ],
   "source": [
    "listings_detail.hist(column='cleaning_fee', bins=100)"
   ]
  },
  {
   "cell_type": "code",
   "execution_count": 67,
   "metadata": {},
   "outputs": [
    {
     "data": {
      "text/plain": [
       "count    32111.000000\n",
       "mean        59.791660\n",
       "std         47.141109\n",
       "min          0.000000\n",
       "25%         25.000000\n",
       "50%         50.000000\n",
       "75%         80.000000\n",
       "max        975.000000\n",
       "Name: cleaning_fee, dtype: float64"
      ]
     },
     "execution_count": 67,
     "metadata": {},
     "output_type": "execute_result"
    }
   ],
   "source": [
    "listings_detail.cleaning_fee.describe()"
   ]
  },
  {
   "cell_type": "markdown",
   "metadata": {},
   "source": [
    "We don't use it cause it has a lot of missing values "
   ]
  },
  {
   "cell_type": "markdown",
   "metadata": {},
   "source": [
    "###### guests_included "
   ]
  },
  {
   "cell_type": "code",
   "execution_count": 68,
   "metadata": {},
   "outputs": [
    {
     "data": {
      "text/plain": [
       "1     32286\n",
       "2      8005\n",
       "4      1934\n",
       "3      1120\n",
       "6       409\n",
       "5       302\n",
       "8       121\n",
       "7        49\n",
       "10       32\n",
       "12       14\n",
       "9        13\n",
       "16       10\n",
       "14        7\n",
       "15        6\n",
       "11        5\n",
       "13        1\n",
       "Name: guests_included, dtype: int64"
      ]
     },
     "execution_count": 68,
     "metadata": {},
     "output_type": "execute_result"
    }
   ],
   "source": [
    "listings_detail['guests_included'].value_counts(dropna=False)"
   ]
  },
  {
   "cell_type": "code",
   "execution_count": 69,
   "metadata": {},
   "outputs": [
    {
     "data": {
      "image/png": "[encoded data removed]",
      "text/plain": [
       "<Figure size 864x432 with 1 Axes>"
      ]
     },
     "metadata": {
      "needs_background": "light"
     },
     "output_type": "display_data"
    }
   ],
   "source": [
    "plot_general_distribution(listings_detail, 'guests_included')"
   ]
  },
  {
   "cell_type": "code",
   "execution_count": 70,
   "metadata": {},
   "outputs": [],
   "source": [
    "# This feature is pretty hard to use"
   ]
  },
  {
   "cell_type": "markdown",
   "metadata": {},
   "source": [
    "###### extra_people "
   ]
  },
  {
   "cell_type": "code",
   "execution_count": 71,
   "metadata": {},
   "outputs": [
    {
     "data": {
      "image/png": "[encoded data removed]",
      "text/plain": [
       "<Figure size 864x432 with 1 Axes>"
      ]
     },
     "metadata": {
      "needs_background": "light"
     },
     "output_type": "display_data"
    }
   ],
   "source": [
    "plot_general_distribution(listings_detail, 'extra_people')"
   ]
  },
  {
   "cell_type": "code",
   "execution_count": 72,
   "metadata": {},
   "outputs": [],
   "source": [
    "# Clean extra_people  \n",
    "try:\n",
    "    listings_detail['extra_people'] = listings_detail['extra_people'].str.replace(\"$\",\"\")\n",
    "    listings_detail['extra_people'] = listings_detail['extra_people'].str.replace(\",\",\"\")\n",
    "    listings_detail.extra_people  = pd.to_numeric(listings_detail.extra_people, downcast = 'float')\n",
    "except: \n",
    "    pass"
   ]
  },
  {
   "cell_type": "code",
   "execution_count": 73,
   "metadata": {},
   "outputs": [
    {
     "name": "stdout",
     "output_type": "stream",
     "text": [
      "0\n",
      "0.0\n"
     ]
    }
   ],
   "source": [
    "# Number NA\n",
    "print(sum(listings_detail['extra_people'].isnull()))\n",
    "\n",
    "# Percentage NA\n",
    "print(sum(listings_detail['extra_people'].isnull()) / len(listings_detail))"
   ]
  },
  {
   "cell_type": "code",
   "execution_count": 74,
   "metadata": {},
   "outputs": [
    {
     "data": {
      "text/plain": [
       "count    44314.000000\n",
       "mean        13.912308\n",
       "std         22.940329\n",
       "min          0.000000\n",
       "25%          0.000000\n",
       "50%          0.000000\n",
       "75%         25.000000\n",
       "max        300.000000\n",
       "Name: extra_people, dtype: float64"
      ]
     },
     "execution_count": 74,
     "metadata": {},
     "output_type": "execute_result"
    }
   ],
   "source": [
    "listings_detail.extra_people.describe()"
   ]
  },
  {
   "cell_type": "code",
   "execution_count": 75,
   "metadata": {},
   "outputs": [],
   "source": [
    "# Group   (these groups are put together after looking at the data)\n",
    "val_counts = listings_detail.extra_people.value_counts(dropna=False)\n",
    "cats = np.array(list(val_counts.keys()))\n",
    "counts = list(val_counts)\n",
    "count_df = pd.DataFrame({\n",
    "    'categories' : cats,\n",
    "    'counts' : counts\n",
    "})\n",
    "\n",
    "freq = {\n",
    "    '0' : 0, \n",
    "    'not 0' : 0\n",
    "}\n",
    "for i in range(0,len(count_df.categories)):\n",
    "    amount = count_df.categories[i]\n",
    "    if(amount == 0):\n",
    "        freq['0'] += count_df.counts[i]\n",
    "    elif(0 < amount):\n",
    "        freq['not 0'] += count_df.counts[i]"
   ]
  },
  {
   "cell_type": "code",
   "execution_count": 76,
   "metadata": {},
   "outputs": [
    {
     "data": {
      "image/png": "[encoded data removed]",
      "text/plain": [
       "<Figure size 432x288 with 1 Axes>"
      ]
     },
     "metadata": {
      "needs_background": "light"
     },
     "output_type": "display_data"
    }
   ],
   "source": [
    "cats = np.array(list(freq.keys()))\n",
    "counts = list(freq.values())\n",
    "\n",
    "title = 'modified extra_people_counts' + ': counts'\n",
    "Ys = counts\n",
    "Xs = cats\n",
    "plt.bar(Xs, Ys)\n",
    "plt.title(title)\n",
    "plt.xlabel('Categories')\n",
    "plt.ylabel('counts')\n",
    "plt.xticks(Xs, Xs, rotation='vertical')\n",
    "plt.show()"
   ]
  },
  {
   "cell_type": "code",
   "execution_count": 77,
   "metadata": {},
   "outputs": [],
   "source": [
    "listings_detail['pay_for_extra_people'] = listings_detail['extra_people'].apply(lambda x: 1 if x > 0 else 0)"
   ]
  },
  {
   "cell_type": "code",
   "execution_count": 78,
   "metadata": {},
   "outputs": [
    {
     "data": {
      "image/png": "[encoded data removed]",
      "text/plain": [
       "<Figure size 864x432 with 1 Axes>"
      ]
     },
     "metadata": {
      "needs_background": "light"
     },
     "output_type": "display_data"
    }
   ],
   "source": [
    "plot_general_distribution(listings_detail, 'pay_for_extra_people')"
   ]
  },
  {
   "cell_type": "markdown",
   "metadata": {},
   "source": [
    "###### minimum_nights "
   ]
  },
  {
   "cell_type": "code",
   "execution_count": 79,
   "metadata": {},
   "outputs": [
    {
     "data": {
      "text/plain": [
       "array([[<matplotlib.axes._subplots.AxesSubplot object at 0x000001885A8EDA58>]],\n",
       "      dtype=object)"
      ]
     },
     "execution_count": 79,
     "metadata": {},
     "output_type": "execute_result"
    },
    {
     "data": {
      "image/png": "[encoded data removed]",
      "text/plain": [
       "<Figure size 432x288 with 1 Axes>"
      ]
     },
     "metadata": {
      "needs_background": "light"
     },
     "output_type": "display_data"
    }
   ],
   "source": [
    "listings_detail.hist(column='minimum_nights', bins=100)"
   ]
  },
  {
   "cell_type": "code",
   "execution_count": 80,
   "metadata": {},
   "outputs": [],
   "source": [
    "# Hard to make this useful "
   ]
  },
  {
   "cell_type": "markdown",
   "metadata": {},
   "source": [
    "###### review_scores_value"
   ]
  },
  {
   "cell_type": "code",
   "execution_count": 81,
   "metadata": {},
   "outputs": [
    {
     "data": {
      "text/plain": [
       "array([nan, 10.,  9.,  7.,  8.,  6.,  4.,  5.,  2.,  3.])"
      ]
     },
     "execution_count": 81,
     "metadata": {},
     "output_type": "execute_result"
    }
   ],
   "source": [
    "listings_detail.review_scores_value.unique()"
   ]
  },
  {
   "cell_type": "code",
   "execution_count": 82,
   "metadata": {},
   "outputs": [
    {
     "data": {
      "image/png": "[encoded data removed]",
      "text/plain": [
       "<Figure size 864x432 with 1 Axes>"
      ]
     },
     "metadata": {
      "needs_background": "light"
     },
     "output_type": "display_data"
    }
   ],
   "source": [
    "plot_general_distribution(listings_detail, 'review_scores_value')"
   ]
  },
  {
   "cell_type": "code",
   "execution_count": 83,
   "metadata": {},
   "outputs": [
    {
     "name": "stdout",
     "output_type": "stream",
     "text": [
      "10294\n",
      "0.23229679108182516\n"
     ]
    }
   ],
   "source": [
    "# Number NA\n",
    "print(sum(listings_detail['review_scores_value'].isnull()))\n",
    "\n",
    "# Percentage NA\n",
    "print(sum(listings_detail['review_scores_value'].isnull()) / len(listings_detail))"
   ]
  },
  {
   "cell_type": "markdown",
   "metadata": {},
   "source": [
    "A lot of missing values, highly doubtable if we can get info out of this"
   ]
  },
  {
   "cell_type": "markdown",
   "metadata": {},
   "source": [
    "###### requires_license"
   ]
  },
  {
   "cell_type": "code",
   "execution_count": 84,
   "metadata": {},
   "outputs": [
    {
     "data": {
      "text/plain": [
       "array(['f'], dtype=object)"
      ]
     },
     "execution_count": 84,
     "metadata": {},
     "output_type": "execute_result"
    }
   ],
   "source": [
    "listings_detail.requires_license.unique()"
   ]
  },
  {
   "cell_type": "code",
   "execution_count": 85,
   "metadata": {},
   "outputs": [],
   "source": [
    "# Not useful "
   ]
  },
  {
   "cell_type": "markdown",
   "metadata": {},
   "source": [
    "###### instant_bookable"
   ]
  },
  {
   "cell_type": "code",
   "execution_count": 86,
   "metadata": {},
   "outputs": [
    {
     "data": {
      "text/plain": [
       "array(['f', 't'], dtype=object)"
      ]
     },
     "execution_count": 86,
     "metadata": {},
     "output_type": "execute_result"
    }
   ],
   "source": [
    "listings_detail.instant_bookable.unique()"
   ]
  },
  {
   "cell_type": "code",
   "execution_count": 87,
   "metadata": {},
   "outputs": [
    {
     "data": {
      "image/png": "[encoded data removed]",
      "text/plain": [
       "<Figure size 864x432 with 1 Axes>"
      ]
     },
     "metadata": {
      "needs_background": "light"
     },
     "output_type": "display_data"
    }
   ],
   "source": [
    "plot_general_distribution(listings_detail, 'instant_bookable')"
   ]
  },
  {
   "cell_type": "code",
   "execution_count": 88,
   "metadata": {},
   "outputs": [],
   "source": [
    "listings_detail['instant_bookable'] = listings_detail['instant_bookable'].apply(lambda x: 1 if x == 't' else 0)"
   ]
  },
  {
   "cell_type": "code",
   "execution_count": 89,
   "metadata": {},
   "outputs": [
    {
     "data": {
      "image/png": "[encoded data removed]",
      "text/plain": [
       "<Figure size 864x432 with 1 Axes>"
      ]
     },
     "metadata": {
      "needs_background": "light"
     },
     "output_type": "display_data"
    }
   ],
   "source": [
    "plot_general_distribution(listings_detail, 'instant_bookable')"
   ]
  },
  {
   "cell_type": "markdown",
   "metadata": {},
   "source": [
    "###### is_business_travel_ready"
   ]
  },
  {
   "cell_type": "code",
   "execution_count": 90,
   "metadata": {},
   "outputs": [
    {
     "data": {
      "image/png": "[encoded data removed]",
      "text/plain": [
       "<Figure size 864x432 with 1 Axes>"
      ]
     },
     "metadata": {
      "needs_background": "light"
     },
     "output_type": "display_data"
    }
   ],
   "source": [
    "plot_general_distribution(listings_detail, 'is_business_travel_ready')"
   ]
  },
  {
   "cell_type": "code",
   "execution_count": 91,
   "metadata": {},
   "outputs": [],
   "source": [
    "listings_detail['is_business_travel_ready'] = listings_detail['is_business_travel_ready'].apply(lambda x: 1 if x == 't' else 0)"
   ]
  },
  {
   "cell_type": "code",
   "execution_count": 92,
   "metadata": {},
   "outputs": [
    {
     "data": {
      "image/png": "[encoded data removed]",
      "text/plain": [
       "<Figure size 864x432 with 1 Axes>"
      ]
     },
     "metadata": {
      "needs_background": "light"
     },
     "output_type": "display_data"
    }
   ],
   "source": [
    "plot_general_distribution(listings_detail, 'is_business_travel_ready')"
   ]
  },
  {
   "cell_type": "markdown",
   "metadata": {},
   "source": [
    "###### cancellation_policy"
   ]
  },
  {
   "cell_type": "code",
   "execution_count": 93,
   "metadata": {},
   "outputs": [
    {
     "data": {
      "text/plain": [
       "array(['strict', 'moderate', 'flexible', 'super_strict_30', 'long_term',\n",
       "       'super_strict_60'], dtype=object)"
      ]
     },
     "execution_count": 93,
     "metadata": {},
     "output_type": "execute_result"
    }
   ],
   "source": [
    "listings_detail.cancellation_policy.unique()"
   ]
  },
  {
   "cell_type": "code",
   "execution_count": 94,
   "metadata": {},
   "outputs": [
    {
     "data": {
      "image/png": "[encoded data removed]",
      "text/plain": [
       "<Figure size 864x432 with 1 Axes>"
      ]
     },
     "metadata": {
      "needs_background": "light"
     },
     "output_type": "display_data"
    }
   ],
   "source": [
    "plot_general_distribution(listings_detail, 'cancellation_policy')"
   ]
  },
  {
   "cell_type": "code",
   "execution_count": 95,
   "metadata": {},
   "outputs": [
    {
     "name": "stderr",
     "output_type": "stream",
     "text": [
      "D:\\Anaconda\\lib\\site-packages\\ipykernel_launcher.py:2: SettingWithCopyWarning: \n",
      "A value is trying to be set on a copy of a slice from a DataFrame\n",
      "\n",
      "See the caveats in the documentation: http://pandas.pydata.org/pandas-docs/stable/indexing.html#indexing-view-versus-copy\n",
      "  \n",
      "D:\\Anaconda\\lib\\site-packages\\ipykernel_launcher.py:3: SettingWithCopyWarning: \n",
      "A value is trying to be set on a copy of a slice from a DataFrame\n",
      "\n",
      "See the caveats in the documentation: http://pandas.pydata.org/pandas-docs/stable/indexing.html#indexing-view-versus-copy\n",
      "  This is separate from the ipykernel package so we can avoid doing imports until\n",
      "D:\\Anaconda\\lib\\site-packages\\ipykernel_launcher.py:4: SettingWithCopyWarning: \n",
      "A value is trying to be set on a copy of a slice from a DataFrame\n",
      "\n",
      "See the caveats in the documentation: http://pandas.pydata.org/pandas-docs/stable/indexing.html#indexing-view-versus-copy\n",
      "  after removing the cwd from sys.path.\n"
     ]
    }
   ],
   "source": [
    "# get super strict and long term to strict \n",
    "listings_detail['cancellation_policy'][listings_detail['cancellation_policy'] == 'super_strict_30'] = 'strict'\n",
    "listings_detail['cancellation_policy'][listings_detail['cancellation_policy'] == 'super_strict_60'] = 'strict'\n",
    "listings_detail['cancellation_policy'][listings_detail['cancellation_policy'] == 'long_term'] = 'strict'"
   ]
  },
  {
   "cell_type": "code",
   "execution_count": 96,
   "metadata": {},
   "outputs": [
    {
     "data": {
      "image/png": "[encoded data removed]",
      "text/plain": [
       "<Figure size 864x432 with 1 Axes>"
      ]
     },
     "metadata": {
      "needs_background": "light"
     },
     "output_type": "display_data"
    }
   ],
   "source": [
    "plot_general_distribution(listings_detail, 'cancellation_policy')"
   ]
  },
  {
   "cell_type": "code",
   "execution_count": 97,
   "metadata": {},
   "outputs": [],
   "source": [
    "listings_detail['canc_pol_is_strict'] = listings_detail['cancellation_policy'].apply(lambda x: 1 if x == 'strict' else 0)\n",
    "listings_detail['canc_pol_is_lenient'] = listings_detail['cancellation_policy'].apply(lambda x: 1 if x == 'flexible' else 0)"
   ]
  },
  {
   "cell_type": "markdown",
   "metadata": {},
   "source": [
    "###### require_guest_profile_picture"
   ]
  },
  {
   "cell_type": "code",
   "execution_count": 98,
   "metadata": {},
   "outputs": [
    {
     "data": {
      "image/png": "[encoded data removed]",
      "text/plain": [
       "<Figure size 864x432 with 1 Axes>"
      ]
     },
     "metadata": {
      "needs_background": "light"
     },
     "output_type": "display_data"
    }
   ],
   "source": [
    "plot_general_distribution(listings_detail, 'require_guest_profile_picture')"
   ]
  },
  {
   "cell_type": "markdown",
   "metadata": {},
   "source": [
    "###### require_guest_phone_verification"
   ]
  },
  {
   "cell_type": "code",
   "execution_count": 99,
   "metadata": {},
   "outputs": [
    {
     "data": {
      "image/png": "[encoded data removed]",
      "text/plain": [
       "<Figure size 864x432 with 1 Axes>"
      ]
     },
     "metadata": {
      "needs_background": "light"
     },
     "output_type": "display_data"
    }
   ],
   "source": [
    "plot_general_distribution(listings_detail, 'require_guest_phone_verification')"
   ]
  },
  {
   "cell_type": "code",
   "execution_count": 100,
   "metadata": {},
   "outputs": [],
   "source": [
    "# we don't expect a lot from this variable, but we put it into a dummy variable to test it anyway\n",
    "listings_detail['require_guest_phone_verification'] = listings_detail['require_guest_phone_verification'].apply(lambda x: 1 if x == 't' else 0)"
   ]
  },
  {
   "cell_type": "code",
   "execution_count": 101,
   "metadata": {},
   "outputs": [
    {
     "data": {
      "image/png": "[encoded data removed]",
      "text/plain": [
       "<Figure size 864x432 with 1 Axes>"
      ]
     },
     "metadata": {
      "needs_background": "light"
     },
     "output_type": "display_data"
    }
   ],
   "source": [
    "plot_general_distribution(listings_detail, 'require_guest_phone_verification')"
   ]
  },
  {
   "cell_type": "markdown",
   "metadata": {},
   "source": [
    "###### calculated_host_listings_count"
   ]
  },
  {
   "cell_type": "code",
   "execution_count": 102,
   "metadata": {},
   "outputs": [
    {
     "data": {
      "text/plain": [
       "array([ 1,  4,  5,  3,  2,  8,  6,  7,  9, 11, 15, 12, 10, 35, 13, 16, 28,\n",
       "       31], dtype=int64)"
      ]
     },
     "execution_count": 102,
     "metadata": {},
     "output_type": "execute_result"
    }
   ],
   "source": [
    "listings_detail.calculated_host_listings_count.unique()"
   ]
  },
  {
   "cell_type": "code",
   "execution_count": 103,
   "metadata": {},
   "outputs": [
    {
     "data": {
      "text/plain": [
       "array([  1.,   4.,   5.,   3.,   2.,   8.,   6.,   0.,  nan,  12.,  16.,\n",
       "        11.,   9.,  24.,  14.,   7.,  20.,  15.,  10.,  19.,  47.,  23.,\n",
       "        22.,  35.,  17.,  13.,  39., 236.,  27., 296.,  94., 979.,  18.,\n",
       "        31.,  41.,  28., 159.,  46.,  21.,  49., 113.,  38.,  42.,  33.,\n",
       "       258.,  54., 248.,  25.,  85., 316.,  52.,  64.,  56., 149., 648.,\n",
       "        83.,  36., 218.])"
      ]
     },
     "execution_count": 103,
     "metadata": {},
     "output_type": "execute_result"
    }
   ],
   "source": [
    "listings_detail.host_listings_count.unique()"
   ]
  },
  {
   "cell_type": "code",
   "execution_count": 104,
   "metadata": {},
   "outputs": [
    {
     "data": {
      "image/png": "[encoded data removed]",
      "text/plain": [
       "<Figure size 864x432 with 1 Axes>"
      ]
     },
     "metadata": {
      "needs_background": "light"
     },
     "output_type": "display_data"
    }
   ],
   "source": [
    "plot_general_distribution(listings_detail, 'calculated_host_listings_count')"
   ]
  },
  {
   "cell_type": "code",
   "execution_count": 105,
   "metadata": {},
   "outputs": [],
   "source": [
    "# similar to host_listings_count (we calculated this and the values are similar)"
   ]
  },
  {
   "cell_type": "markdown",
   "metadata": {},
   "source": [
    "###### neighbourhood group"
   ]
  },
  {
   "cell_type": "code",
   "execution_count": 106,
   "metadata": {},
   "outputs": [
    {
     "data": {
      "image/png": "[encoded data removed]",
      "text/plain": [
       "<Figure size 864x432 with 1 Axes>"
      ]
     },
     "metadata": {
      "needs_background": "light"
     },
     "output_type": "display_data"
    }
   ],
   "source": [
    "# Plot distribution\n",
    "plot_general_distribution(listings_detail, 'neighbourhood_group_cleansed')"
   ]
  },
  {
   "cell_type": "code",
   "execution_count": 107,
   "metadata": {},
   "outputs": [],
   "source": [
    "# Make dummies \n",
    "listings_detail['is_Manhattan'] = listings_detail['neighbourhood_group_cleansed'].apply(lambda x: 1 if x == 'Manhattan' else 0)\n",
    "listings_detail['is_Brooklyn'] = listings_detail['neighbourhood_group_cleansed'].apply(lambda x: 1 if x == 'Brooklyn' else 0)\n",
    "listings_detail['is_Queens'] = listings_detail['neighbourhood_group_cleansed'].apply(lambda x: 1 if x == 'Queens' else 0)\n",
    "listings_detail['is_Bronx'] = listings_detail['neighbourhood_group_cleansed'].apply(lambda x: 1 if x == 'Bronx' else 0)\n",
    "listings_detail['is_Staten_Island'] = listings_detail['neighbourhood_group_cleansed'].apply(lambda x: 1 if x == 'Staten Island' else 0)"
   ]
  },
  {
   "cell_type": "markdown",
   "metadata": {},
   "source": [
    "###### distance from statue of liberty"
   ]
  },
  {
   "cell_type": "code",
   "execution_count": 108,
   "metadata": {},
   "outputs": [
    {
     "name": "stdout",
     "output_type": "stream",
     "text": [
      "already converted\n"
     ]
    }
   ],
   "source": [
    "clean_dollar(listings_detail, 'price')"
   ]
  },
  {
   "cell_type": "code",
   "execution_count": 109,
   "metadata": {},
   "outputs": [],
   "source": [
    "import math\n",
    "def distance_from_SoL(lat_1_lon_1):\n",
    "    lat_1_lon_1 = lat_1_lon_1.split(',')\n",
    "    lat1 = float(lat_1_lon_1[0])\n",
    "    lon1 = float(lat_1_lon_1[1])\n",
    "    lat2 =  40.689247\n",
    "    lon2 = -74.044502\n",
    "    radius = 3959 # miles\n",
    "\n",
    "    dlat = math.radians(lat2-lat1)\n",
    "    dlon = math.radians(lon2-lon1)\n",
    "    a = math.sin(dlat/2) * math.sin(dlat/2) + math.cos(math.radians(lat1)) \\\n",
    "        * math.cos(math.radians(lat2)) * math.sin(dlon/2) * math.sin(dlon/2)\n",
    "    c = 2 * math.atan2(math.sqrt(a), math.sqrt(1-a))\n",
    "    d = radius * c\n",
    "\n",
    "    return d"
   ]
  },
  {
   "cell_type": "code",
   "execution_count": 110,
   "metadata": {},
   "outputs": [],
   "source": [
    "# calculate the distance for every row and flag when bigger than 2\n",
    "listings_detail['dist_from_SOL'] = 0\n",
    "listings_detail['lat_lon'] = ['{}, {}'.format(x,y) for x,y in zip(listings_detail.latitude,listings_detail.longitude)]\n",
    "listings_detail['dist_from_SOL'] = listings_detail['lat_lon'].apply(lambda x: distance_from_SoL(x))\n",
    "listings_detail['distance_flag'] = listings_detail['dist_from_SOL'].apply(lambda x: 0 if x < 2 else 1)"
   ]
  },
  {
   "cell_type": "code",
   "execution_count": 111,
   "metadata": {},
   "outputs": [
    {
     "name": "stdout",
     "output_type": "stream",
     "text": [
      "       dist_from_SOL  distance_flag\n",
      "32013       1.551424              0\n",
      "32005       1.575248              0\n",
      "32002       1.671550              0\n",
      "32022       1.703789              0\n",
      "32004       1.732006              0\n",
      "       dist_from_SOL  distance_flag\n",
      "38591      18.115936              1\n",
      "38592      18.152777              1\n",
      "38614      18.215858              1\n",
      "38613      18.240721              1\n",
      "44298      18.446764              1\n"
     ]
    }
   ],
   "source": [
    "# Test the outcome of the flagging\n",
    "listings_detail = listings_detail.sort_values('dist_from_SOL')\n",
    "print(listings_detail[['dist_from_SOL','distance_flag']].head())\n",
    "print(listings_detail[['dist_from_SOL','distance_flag']].tail())"
   ]
  },
  {
   "cell_type": "code",
   "execution_count": 112,
   "metadata": {
    "scrolled": true
   },
   "outputs": [
    {
     "data": {
      "text/plain": [
       "distance_flag\n",
       "0    192.311111\n",
       "1    147.545151\n",
       "Name: price, dtype: float32"
      ]
     },
     "execution_count": 112,
     "metadata": {},
     "output_type": "execute_result"
    }
   ],
   "source": [
    "# First check: calculate the mean price\n",
    "mean_prices = listings_detail.groupby('distance_flag').mean()['price']\n",
    "mean_prices"
   ]
  },
  {
   "cell_type": "markdown",
   "metadata": {},
   "source": [
    "###### distance from Manhattan Bridge"
   ]
  },
  {
   "cell_type": "code",
   "execution_count": 113,
   "metadata": {},
   "outputs": [],
   "source": [
    "import math\n",
    "def distance_from_Manhattan_Bridge(lat_1_lon_1):\n",
    "    lat_1_lon_1 = lat_1_lon_1.split(',')\n",
    "    lat1 = float(lat_1_lon_1[0])\n",
    "    lon1 = float(lat_1_lon_1[1])\n",
    "    lat2 =  40.702626\n",
    "    lon2 = -73.992734\n",
    "    radius = 3959 # miles\n",
    "\n",
    "    dlat = math.radians(lat2-lat1)\n",
    "    dlon = math.radians(lon2-lon1)\n",
    "    a = math.sin(dlat/2) * math.sin(dlat/2) + math.cos(math.radians(lat1)) \\\n",
    "        * math.cos(math.radians(lat2)) * math.sin(dlon/2) * math.sin(dlon/2)\n",
    "    c = 2 * math.atan2(math.sqrt(a), math.sqrt(1-a))\n",
    "    d = radius * c\n",
    "\n",
    "    return d"
   ]
  },
  {
   "cell_type": "code",
   "execution_count": 114,
   "metadata": {},
   "outputs": [],
   "source": [
    "# calculate the distance for every row and flag when bigger than 2\n",
    "listings_detail['dist_from_Manhattan_Bridge'] = 0\n",
    "listings_detail['lat_lon'] = ['{}, {}'.format(x,y) for x,y in zip(listings_detail.latitude,listings_detail.longitude)]\n",
    "listings_detail['dist_from_Manhattan_Bridge'] = listings_detail['lat_lon'].apply(lambda x: distance_from_SoL(x))"
   ]
  },
  {
   "cell_type": "markdown",
   "metadata": {},
   "source": [
    "##### Longitude"
   ]
  },
  {
   "cell_type": "code",
   "execution_count": 115,
   "metadata": {},
   "outputs": [
    {
     "data": {
      "text/plain": [
       "<matplotlib.axes._subplots.AxesSubplot at 0x1883eca3668>"
      ]
     },
     "execution_count": 115,
     "metadata": {},
     "output_type": "execute_result"
    },
    {
     "data": {
      "image/png": "[encoded data removed]",
      "text/plain": [
       "<Figure size 432x288 with 1 Axes>"
      ]
     },
     "metadata": {
      "needs_background": "light"
     },
     "output_type": "display_data"
    }
   ],
   "source": [
    "sns.distplot(listings_detail['longitude'])"
   ]
  },
  {
   "cell_type": "code",
   "execution_count": 116,
   "metadata": {},
   "outputs": [
    {
     "data": {
      "text/plain": [
       "0"
      ]
     },
     "execution_count": 116,
     "metadata": {},
     "output_type": "execute_result"
    }
   ],
   "source": [
    "sum(listings_detail['longitude'].isnull())"
   ]
  },
  {
   "cell_type": "markdown",
   "metadata": {},
   "source": [
    "##### Latitude"
   ]
  },
  {
   "cell_type": "code",
   "execution_count": 117,
   "metadata": {},
   "outputs": [
    {
     "data": {
      "text/plain": [
       "<matplotlib.axes._subplots.AxesSubplot at 0x1887e6d9b38>"
      ]
     },
     "execution_count": 117,
     "metadata": {},
     "output_type": "execute_result"
    },
    {
     "data": {
      "image/png": "[encoded data removed]",
      "text/plain": [
       "<Figure size 432x288 with 1 Axes>"
      ]
     },
     "metadata": {
      "needs_background": "light"
     },
     "output_type": "display_data"
    }
   ],
   "source": [
    "sns.distplot(listings_detail['longitude'])"
   ]
  },
  {
   "cell_type": "code",
   "execution_count": 118,
   "metadata": {},
   "outputs": [
    {
     "data": {
      "text/plain": [
       "0"
      ]
     },
     "execution_count": 118,
     "metadata": {},
     "output_type": "execute_result"
    }
   ],
   "source": [
    "sum(listings_detail['latitude'].isnull())"
   ]
  },
  {
   "cell_type": "markdown",
   "metadata": {},
   "source": [
    "#### Low availability"
   ]
  },
  {
   "cell_type": "code",
   "execution_count": 119,
   "metadata": {},
   "outputs": [
    {
     "data": {
      "text/plain": [
       "0"
      ]
     },
     "execution_count": 119,
     "metadata": {},
     "output_type": "execute_result"
    }
   ],
   "source": [
    "sum(listings_detail['availability_365'].isnull())"
   ]
  },
  {
   "cell_type": "code",
   "execution_count": 120,
   "metadata": {},
   "outputs": [
    {
     "data": {
      "text/plain": [
       "<matplotlib.axes._subplots.AxesSubplot at 0x18846317d68>"
      ]
     },
     "execution_count": 120,
     "metadata": {},
     "output_type": "execute_result"
    },
    {
     "data": {
      "image/png": "[encoded data removed]",
      "text/plain": [
       "<Figure size 432x288 with 1 Axes>"
      ]
     },
     "metadata": {
      "needs_background": "light"
     },
     "output_type": "display_data"
    }
   ],
   "source": [
    "sns.distplot(listings_detail['availability_365'])"
   ]
  },
  {
   "cell_type": "markdown",
   "metadata": {},
   "source": [
    "## Linear Regression"
   ]
  },
  {
   "cell_type": "code",
   "execution_count": 121,
   "metadata": {},
   "outputs": [],
   "source": [
    "# import the statsmodel package\n",
    "import statsmodels.api as sm"
   ]
  },
  {
   "cell_type": "code",
   "execution_count": 122,
   "metadata": {},
   "outputs": [
    {
     "name": "stdout",
     "output_type": "stream",
     "text": [
      "already converted\n"
     ]
    }
   ],
   "source": [
    "clean_dollar(listings_detail, 'price')"
   ]
  },
  {
   "cell_type": "code",
   "execution_count": 284,
   "metadata": {},
   "outputs": [],
   "source": [
    "# Choose independent variables\n",
    "\n",
    "X = listings_detail[[#'is_business_travel_ready',\n",
    "                     # 'host_is_superhost',\n",
    "                     #'host_listings_count_calculated',\n",
    "                     #'host_has_profile_pic',\n",
    "                     #'host_identity_verified',\n",
    "                     'is_entire_home_or_apt',\n",
    "                     #'is_private_room',                       ---> Reference value is a private room\n",
    "                     'is_shared_room',\n",
    "                    'accommodates',\n",
    "                    'bathrooms',\n",
    "                    'pay_for_extra_people',\n",
    "                    'instant_bookable',\n",
    "                    'require_guest_phone_verification',\n",
    "                    #'distance_flag'\n",
    "                    #'is_Manhattan',                          \n",
    "                    'is_Brooklyn',                            \n",
    "                    'is_Queens',                                                          \n",
    "                    'is_Bronx',\n",
    "                    'is_Staten_Island',\n",
    "                    'beds',\n",
    "                    'availability_365',\n",
    "                    #'dist_from_Manhattan_Bridge'\n",
    "                    ]]\n",
    "y = listings_detail.price\n"
   ]
  },
  {
   "cell_type": "code",
   "execution_count": 285,
   "metadata": {},
   "outputs": [],
   "source": [
    "for feature in X:\n",
    "    number_missing = sum(listings_detail[feature].isnull())\n",
    "    if number_missing > 0:\n",
    "        print(feature)\n",
    "    else: \n",
    "        pass"
   ]
  },
  {
   "cell_type": "code",
   "execution_count": 286,
   "metadata": {},
   "outputs": [],
   "source": [
    "# add constant\n",
    "sm.add_constant(X)\n",
    "\n",
    "model = sm.OLS(y, X).fit()"
   ]
  },
  {
   "cell_type": "code",
   "execution_count": 287,
   "metadata": {},
   "outputs": [
    {
     "data": {
      "text/plain": [
       "is_entire_home_or_apt                55.384399\n",
       "is_shared_room                      -22.579787\n",
       "accommodates                         31.418257\n",
       "bathrooms                           104.146985\n",
       "pay_for_extra_people                -30.884321\n",
       "instant_bookable                     -8.379992\n",
       "require_guest_phone_verification     17.630158\n",
       "is_Brooklyn                         -63.691812\n",
       "is_Queens                           -46.671558\n",
       "is_Bronx                            -24.658646\n",
       "is_Staten_Island                    -92.055893\n",
       "beds                                 -6.445496\n",
       "availability_365                      0.088215\n",
       "dist_from_Manhattan_Bridge           -6.345493\n",
       "dtype: float64"
      ]
     },
     "execution_count": 287,
     "metadata": {},
     "output_type": "execute_result"
    }
   ],
   "source": [
    "model.params"
   ]
  },
  {
   "cell_type": "code",
   "execution_count": 274,
   "metadata": {},
   "outputs": [
    {
     "data": {
      "text/html": [
       "<table class=\"simpletable\">\n",
       "<caption>OLS Regression Results</caption>\n",
       "<tr>\n",
       "  <th>Dep. Variable:</th>          <td>price</td>      <th>  R-squared:         </th>  <td>   0.475</td>  \n",
       "</tr>\n",
       "<tr>\n",
       "  <th>Model:</th>                   <td>OLS</td>       <th>  Adj. R-squared:    </th>  <td>   0.474</td>  \n",
       "</tr>\n",
       "<tr>\n",
       "  <th>Method:</th>             <td>Least Squares</td>  <th>  F-statistic:       </th>  <td>   3078.</td>  \n",
       "</tr>\n",
       "<tr>\n",
       "  <th>Date:</th>             <td>Sat, 26 Oct 2019</td> <th>  Prob (F-statistic):</th>   <td>  0.00</td>   \n",
       "</tr>\n",
       "<tr>\n",
       "  <th>Time:</th>                 <td>17:52:24</td>     <th>  Log-Likelihood:    </th> <td>-2.9433e+05</td>\n",
       "</tr>\n",
       "<tr>\n",
       "  <th>No. Observations:</th>      <td> 44314</td>      <th>  AIC:               </th>  <td>5.887e+05</td> \n",
       "</tr>\n",
       "<tr>\n",
       "  <th>Df Residuals:</th>          <td> 44301</td>      <th>  BIC:               </th>  <td>5.888e+05</td> \n",
       "</tr>\n",
       "<tr>\n",
       "  <th>Df Model:</th>              <td>    13</td>      <th>                     </th>      <td> </td>     \n",
       "</tr>\n",
       "<tr>\n",
       "  <th>Covariance Type:</th>      <td>nonrobust</td>    <th>                     </th>      <td> </td>     \n",
       "</tr>\n",
       "</table>\n",
       "<table class=\"simpletable\">\n",
       "<tr>\n",
       "                  <td></td>                    <th>coef</th>     <th>std err</th>      <th>t</th>      <th>P>|t|</th>  <th>[0.025</th>    <th>0.975]</th>  \n",
       "</tr>\n",
       "<tr>\n",
       "  <th>is_entire_home_or_apt</th>            <td>   51.2868</td> <td>    2.029</td> <td>   25.272</td> <td> 0.000</td> <td>   47.309</td> <td>   55.264</td>\n",
       "</tr>\n",
       "<tr>\n",
       "  <th>is_shared_room</th>                   <td>  -30.9918</td> <td>    5.660</td> <td>   -5.475</td> <td> 0.000</td> <td>  -42.086</td> <td>  -19.898</td>\n",
       "</tr>\n",
       "<tr>\n",
       "  <th>accommodates</th>                     <td>   31.7348</td> <td>    0.889</td> <td>   35.690</td> <td> 0.000</td> <td>   29.992</td> <td>   33.478</td>\n",
       "</tr>\n",
       "<tr>\n",
       "  <th>bathrooms</th>                        <td>   81.1238</td> <td>    1.693</td> <td>   47.930</td> <td> 0.000</td> <td>   77.806</td> <td>   84.441</td>\n",
       "</tr>\n",
       "<tr>\n",
       "  <th>pay_for_extra_people</th>             <td>  -37.4364</td> <td>    1.816</td> <td>  -20.614</td> <td> 0.000</td> <td>  -40.996</td> <td>  -33.877</td>\n",
       "</tr>\n",
       "<tr>\n",
       "  <th>instant_bookable</th>                 <td>  -14.2828</td> <td>    2.034</td> <td>   -7.021</td> <td> 0.000</td> <td>  -18.270</td> <td>  -10.296</td>\n",
       "</tr>\n",
       "<tr>\n",
       "  <th>require_guest_phone_verification</th> <td>   17.6175</td> <td>    4.886</td> <td>    3.605</td> <td> 0.000</td> <td>    8.040</td> <td>   27.195</td>\n",
       "</tr>\n",
       "<tr>\n",
       "  <th>is_Brooklyn</th>                      <td>  -61.6912</td> <td>    1.838</td> <td>  -33.569</td> <td> 0.000</td> <td>  -65.293</td> <td>  -58.089</td>\n",
       "</tr>\n",
       "<tr>\n",
       "  <th>is_Queens</th>                        <td>  -72.9218</td> <td>    3.096</td> <td>  -23.557</td> <td> 0.000</td> <td>  -78.989</td> <td>  -66.855</td>\n",
       "</tr>\n",
       "<tr>\n",
       "  <th>is_Bronx</th>                         <td>  -75.9234</td> <td>    6.757</td> <td>  -11.236</td> <td> 0.000</td> <td>  -89.167</td> <td>  -62.680</td>\n",
       "</tr>\n",
       "<tr>\n",
       "  <th>is_Staten_Island</th>                 <td>  -89.7058</td> <td>   10.936</td> <td>   -8.203</td> <td> 0.000</td> <td> -111.140</td> <td>  -68.271</td>\n",
       "</tr>\n",
       "<tr>\n",
       "  <th>beds</th>                             <td>   -6.5620</td> <td>    1.456</td> <td>   -4.506</td> <td> 0.000</td> <td>   -9.416</td> <td>   -3.708</td>\n",
       "</tr>\n",
       "<tr>\n",
       "  <th>availability_365</th>                 <td>    0.0688</td> <td>    0.007</td> <td>   10.387</td> <td> 0.000</td> <td>    0.056</td> <td>    0.082</td>\n",
       "</tr>\n",
       "</table>\n",
       "<table class=\"simpletable\">\n",
       "<tr>\n",
       "  <th>Omnibus:</th>       <td>112091.140</td> <th>  Durbin-Watson:     </th>    <td>   1.978</td>   \n",
       "</tr>\n",
       "<tr>\n",
       "  <th>Prob(Omnibus):</th>   <td> 0.000</td>   <th>  Jarque-Bera (JB):  </th> <td>2960968922.819</td>\n",
       "</tr>\n",
       "<tr>\n",
       "  <th>Skew:</th>            <td>28.079</td>   <th>  Prob(JB):          </th>    <td>    0.00</td>   \n",
       "</tr>\n",
       "<tr>\n",
       "  <th>Kurtosis:</th>       <td>1268.099</td>  <th>  Cond. No.          </th>    <td>2.33e+03</td>   \n",
       "</tr>\n",
       "</table><br/><br/>Warnings:<br/>[1] Standard Errors assume that the covariance matrix of the errors is correctly specified.<br/>[2] The condition number is large, 2.33e+03. This might indicate that there are<br/>strong multicollinearity or other numerical problems."
      ],
      "text/plain": [
       "<class 'statsmodels.iolib.summary.Summary'>\n",
       "\"\"\"\n",
       "                            OLS Regression Results                            \n",
       "==============================================================================\n",
       "Dep. Variable:                  price   R-squared:                       0.475\n",
       "Model:                            OLS   Adj. R-squared:                  0.474\n",
       "Method:                 Least Squares   F-statistic:                     3078.\n",
       "Date:                Sat, 26 Oct 2019   Prob (F-statistic):               0.00\n",
       "Time:                        17:52:24   Log-Likelihood:            -2.9433e+05\n",
       "No. Observations:               44314   AIC:                         5.887e+05\n",
       "Df Residuals:                   44301   BIC:                         5.888e+05\n",
       "Df Model:                          13                                         \n",
       "Covariance Type:            nonrobust                                         \n",
       "====================================================================================================\n",
       "                                       coef    std err          t      P>|t|      [0.025      0.975]\n",
       "----------------------------------------------------------------------------------------------------\n",
       "is_entire_home_or_apt               51.2868      2.029     25.272      0.000      47.309      55.264\n",
       "is_shared_room                     -30.9918      5.660     -5.475      0.000     -42.086     -19.898\n",
       "accommodates                        31.7348      0.889     35.690      0.000      29.992      33.478\n",
       "bathrooms                           81.1238      1.693     47.930      0.000      77.806      84.441\n",
       "pay_for_extra_people               -37.4364      1.816    -20.614      0.000     -40.996     -33.877\n",
       "instant_bookable                   -14.2828      2.034     -7.021      0.000     -18.270     -10.296\n",
       "require_guest_phone_verification    17.6175      4.886      3.605      0.000       8.040      27.195\n",
       "is_Brooklyn                        -61.6912      1.838    -33.569      0.000     -65.293     -58.089\n",
       "is_Queens                          -72.9218      3.096    -23.557      0.000     -78.989     -66.855\n",
       "is_Bronx                           -75.9234      6.757    -11.236      0.000     -89.167     -62.680\n",
       "is_Staten_Island                   -89.7058     10.936     -8.203      0.000    -111.140     -68.271\n",
       "beds                                -6.5620      1.456     -4.506      0.000      -9.416      -3.708\n",
       "availability_365                     0.0688      0.007     10.387      0.000       0.056       0.082\n",
       "==============================================================================\n",
       "Omnibus:                   112091.140   Durbin-Watson:                   1.978\n",
       "Prob(Omnibus):                  0.000   Jarque-Bera (JB):       2960968922.819\n",
       "Skew:                          28.079   Prob(JB):                         0.00\n",
       "Kurtosis:                    1268.099   Cond. No.                     2.33e+03\n",
       "==============================================================================\n",
       "\n",
       "Warnings:\n",
       "[1] Standard Errors assume that the covariance matrix of the errors is correctly specified.\n",
       "[2] The condition number is large, 2.33e+03. This might indicate that there are\n",
       "strong multicollinearity or other numerical problems.\n",
       "\"\"\""
      ]
     },
     "execution_count": 274,
     "metadata": {},
     "output_type": "execute_result"
    }
   ],
   "source": [
    "model.summary()"
   ]
  },
  {
   "cell_type": "code",
   "execution_count": 275,
   "metadata": {},
   "outputs": [],
   "source": [
    "# !pip install shap"
   ]
  },
  {
   "cell_type": "markdown",
   "metadata": {},
   "source": [
    "# Comprehensive plots"
   ]
  },
  {
   "cell_type": "code",
   "execution_count": 276,
   "metadata": {},
   "outputs": [],
   "source": [
    "# Plot for neighbourhood groups \n",
    "neigh_groups = ['Staten Island','Bronx','Queens','Manhattan']\n",
    "values = [model.params['is_Staten_Island'],\n",
    "          model.params['is_Brooklyn'],\n",
    "          model.params['is_Queens'],\n",
    "          model.params['is_Bronx']]"
   ]
  },
  {
   "cell_type": "code",
   "execution_count": 277,
   "metadata": {},
   "outputs": [
    {
     "data": {
      "text/plain": [
       "-61.691179081156825"
      ]
     },
     "execution_count": 277,
     "metadata": {},
     "output_type": "execute_result"
    }
   ],
   "source": [
    "model.params['is_Brooklyn']"
   ]
  },
  {
   "cell_type": "code",
   "execution_count": 278,
   "metadata": {},
   "outputs": [],
   "source": [
    "values = [model.params['is_Staten_Island'] - model.params['is_Brooklyn'],\n",
    "         model.params['is_Bronx'] - model.params['is_Brooklyn'],\n",
    "         model.params['is_Queens'] - model.params['is_Brooklyn'],\n",
    "         0  - model.params['is_Brooklyn']]"
   ]
  },
  {
   "cell_type": "code",
   "execution_count": 279,
   "metadata": {},
   "outputs": [
    {
     "data": {
      "image/png": "[encoded data removed]",
      "text/plain": [
       "<Figure size 432x288 with 1 Axes>"
      ]
     },
     "metadata": {
      "needs_background": "light"
     },
     "output_type": "display_data"
    }
   ],
   "source": [
    "plt.title('Prices with Brooklyn as a reference value')\n",
    "plt.bar(neigh_groups, values, color = (\"lightcoral\", \n",
    "                                       \"lightcoral\", \n",
    "                                       \"lightcoral\", \n",
    "                                       \"darkseagreen\"))\n",
    "plt.xlabel('Neighborhood group', fontsize = 12)\n",
    "plt.ylabel('Price ($)', fontsize = 12)\n",
    "plt.show()\n"
   ]
  },
  {
   "cell_type": "code",
   "execution_count": 280,
   "metadata": {},
   "outputs": [],
   "source": [
    "# Plot shared room vs entire home vs private room"
   ]
  },
  {
   "cell_type": "code",
   "execution_count": 281,
   "metadata": {},
   "outputs": [],
   "source": [
    "room_types = ['Shared room','entire home']\n",
    "values = [model.params['is_shared_room'],\n",
    "         model.params['is_entire_home_or_apt']]"
   ]
  },
  {
   "cell_type": "code",
   "execution_count": 282,
   "metadata": {},
   "outputs": [
    {
     "data": {
      "image/png": "[encoded data removed]",
      "text/plain": [
       "<Figure size 432x288 with 1 Axes>"
      ]
     },
     "metadata": {
      "needs_background": "light"
     },
     "output_type": "display_data"
    }
   ],
   "source": [
    "plt.title('Room types with private room as a reference value')\n",
    "plt.bar(room_types, values, color = (\"lightcoral\", \n",
    "                                       \"darkseagreen\"))\n",
    "plt.xlabel('Room type', fontsize = 12)\n",
    "plt.ylabel('Price ($)', fontsize = 12)\n",
    "plt.show()"
   ]
  },
  {
   "cell_type": "code",
   "execution_count": 283,
   "metadata": {},
   "outputs": [
    {
     "data": {
      "text/plain": [
       "is_entire_home_or_apt               51.286843\n",
       "is_shared_room                     -30.991772\n",
       "accommodates                        31.734840\n",
       "bathrooms                           81.123821\n",
       "pay_for_extra_people               -37.436428\n",
       "instant_bookable                   -14.282772\n",
       "require_guest_phone_verification    17.617538\n",
       "is_Brooklyn                        -61.691179\n",
       "is_Queens                          -72.921813\n",
       "is_Bronx                           -75.923402\n",
       "is_Staten_Island                   -89.705836\n",
       "beds                                -6.561975\n",
       "availability_365                     0.068786\n",
       "dtype: float64"
      ]
     },
     "execution_count": 283,
     "metadata": {},
     "output_type": "execute_result"
    }
   ],
   "source": [
    "model.params"
   ]
  },
  {
   "cell_type": "code",
   "execution_count": null,
   "metadata": {},
   "outputs": [],
   "source": []
  },
  {
   "cell_type": "code",
   "execution_count": null,
   "metadata": {},
   "outputs": [],
   "source": []
  },
  {
   "cell_type": "code",
   "execution_count": null,
   "metadata": {},
   "outputs": [],
   "source": []
  }
 ],
 "metadata": {
  "kernelspec": {
   "display_name": "Python 3",
   "language": "python",
   "name": "python3"
  },
  "language_info": {
   "codemirror_mode": {
    "name": "ipython",
    "version": 3
   },
   "file_extension": ".py",
   "mimetype": "text/x-python",
   "name": "python",
   "nbconvert_exporter": "python",
   "pygments_lexer": "ipython3",
   "version": "3.7.3"
  }
 },
 "nbformat": 4,
 "nbformat_minor": 2
}
